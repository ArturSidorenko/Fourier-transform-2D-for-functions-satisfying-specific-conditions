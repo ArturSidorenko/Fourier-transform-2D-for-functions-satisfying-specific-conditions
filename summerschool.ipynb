{
  "cells": [
    {
      "cell_type": "markdown",
      "metadata": {
        "id": "view-in-github",
        "colab_type": "text"
      },
      "source": [
        "<a href=\"https://colab.research.google.com/github/ArturSidorenko/Fourier-transform-2D-for-functions-satisfying-specific-conditions/blob/master/summerschool.ipynb\" target=\"_parent\"><img src=\"https://colab.research.google.com/assets/colab-badge.svg\" alt=\"Open In Colab\"/></a>"
      ]
    },
    {
      "cell_type": "markdown",
      "id": "819bddf3",
      "metadata": {
        "id": "819bddf3"
      },
      "source": [
        "<style>\n",
        "    ul {list-style-position: inside; padding-left:0; margin-top:0;}\n",
        "    p.a {margin-bottom:0; margin-top:0}\n",
        "</style>\n",
        "# Быстрые вычисления на Python с применениями в финансовой математике\n",
        "\n",
        "**Летняя школа Вега 2022**  \n",
        "*Лектор: Михаил Житлухин*\n",
        "\n",
        "**Содержание курса**  \n",
        "\n",
        "<p class=\"a\">В этом мини-курсе будет дан обзор пакетов Python для быстрых вычислений:</p>\n",
        "\n",
        "- NumPy – операции с массивами;\n",
        "- Numba – динамическая компиляция кода;\n",
        "- CuPy – вычисления на GPU.\n",
        "\n",
        "<p class=\"a\">В качестве примеров мы реализуем</p>\n",
        "\n",
        "- метод Монте-Карло для оценки опционов в модели Хестона;\n",
        "- метод подгонки параметров модели Хестона по наблюдаемым ценам опционов."
      ]
    },
    {
      "cell_type": "markdown",
      "id": "3b49ad04",
      "metadata": {
        "id": "3b49ad04"
      },
      "source": [
        "# 1. Введение\n",
        "## 1.1. Модель Блэка-Шоулса и предполагаемая волатильность\n",
        "В модели Блэка-Шоулса цена акции задается геометрическим броуновским движением:\n",
        "$$d S_t = \\mu S_t dt + \\sigma S_t d W_t, \\qquad S_0 = s>0.$$\n",
        "Цену опциона колл можно вычислить как ожидание по эквивалентной мартингальной мере $Q$:\n",
        "$$C = e^{-rT} E^Q(S_T-K)^+,$$\n",
        "где $r$ – безрисковая процентная ставка, а цена акции относительно $Q$ удовлетворяет уравнению\n",
        "$$d S_t = r S_t dt + \\sigma S_t d W_t, \\qquad S_0 = s>0.$$\n",
        "\n",
        "**Теорема (формула Блэка-Шоулса)**. Безарбитражная цена опциона колл с временем исполнения $T$ и страйком $K$ равна\n",
        "$$C = s\\Phi(d_1) + e^{-rT} K\\Phi(d_2),$$\n",
        "где\n",
        "$$\n",
        "d_1 = \\frac{1}{\\sigma\\sqrt T}\\left(\\ln\\frac sK + \\left(r+\\frac{\\sigma^2}2\\right)T\\right), \\qquad\n",
        "d_2 = d_1 - \\sigma\\sqrt{T}.\n",
        "$$\n",
        "\n",
        "**Определение.** *Предполагаемой волатильностью* $\\sigma(T,K)$ называется значение $\\sigma$ для которого цена опциона с временем исполнения $T$ и страйком $K$, вычисленная по формуле Блэка-Шоулса, совпадает с его рыночной ценой.\n",
        "\n",
        "Эмпирический факт: опционы с различными $T,K$ имеют различные предполагаемые волатильности. "
      ]
    },
    {
      "cell_type": "markdown",
      "id": "ee17c251",
      "metadata": {
        "id": "ee17c251"
      },
      "source": [
        "## 1.2. Модель Хестона\n",
        "\n",
        "**Определение.** *Модель Хестона* задается уравнениями (относительно мартингальной меры)\n",
        "$$\n",
        "\\begin{aligned}\n",
        "&d S_t = r S_t dt + \\sqrt{V_t} S_t d W_t^1, \\qquad S_0=s>0,\\\\\n",
        "& d V_t = \\kappa(\\theta-V_t) dt + \\sigma \\sqrt{V_t} d W_t^2,\\qquad V_0=v>0, \\\\\n",
        "& d W_t^1 d W_t^2 = \\rho dt,\n",
        "\\end{aligned}\n",
        "$$\n",
        "где $\\kappa>0$, $\\theta>0$, $\\sigma>0$, $\\rho\\in(-1,1)$ – параметры модели.\n",
        "\n",
        "*Замечание.* Данная система уравнений имеет единственное (сильное) решение, причем процесс $S_t$ строго положителен, а процесс $V_t$ неотрицателен."
      ]
    },
    {
      "cell_type": "markdown",
      "id": "c104881b",
      "metadata": {
        "id": "c104881b"
      },
      "source": [
        "## 1.3. Вычисление цен опционов методом Монте-Карло\n",
        "\n",
        "Пусть необходимо вычислить математическое ожидание $E(X)$ для некоторой случайной величины $X$. Если имеется алгоритм симуляции случайных значений $x_1,\\ldots,x_n,$ то положим\n",
        "$$E(X) \\approx \\bar x := \\frac1n \\sum_{i=1}^n x_i.$$\n",
        "Доверительный интервал вероятности $p$ для данной оценки\n",
        "$$E(X) \\in [\\bar x - \\varepsilon, \\bar x + \\varepsilon], \\qquad \\varepsilon= z \\frac{s_x}{\\sqrt{n}},$$\n",
        "где $z$ – критическое значение, соответствующее вероятности $p$ (например, $z=1.96$ для $p=0.95$) и $s_x^2$ – выборочная дисперсия\n",
        "$$s_x^2 = \\frac{1}{n-1}\\sum_{i=1}^n (x_i-\\bar x)^2.$$"
      ]
    },
    {
      "cell_type": "markdown",
      "id": "5f07614e",
      "metadata": {
        "id": "5f07614e"
      },
      "source": [
        "## 1.4. Схема Эйлера для симуляции модели Хестона\n",
        "\n",
        " *Схема Эйлера* - это универсальный и простой метод симуляции решений стохастических дифференциальных уравнений. Применительно к модели Хестона она выглядит следующим образом.\n",
        " \n",
        "\n",
        "\n",
        "\n",
        "Если нужно получить реализации процессов $V_t$ и $X_t=\\ln(S_t)$ в моменты времени $t_i=i\\Delta t$, то положим\n",
        "$$\n",
        "\\begin{aligned}\n",
        "&V_{t_{i+1}} = V_{t_i} + \\kappa(\\theta-V_{t_i}^+) \\Delta t + \\sigma \\sqrt{V_{t_i}^+} Z_{i+1}^1\\sqrt{\\Delta t},\\\\\n",
        "&X_{t_{i+1}} = X_{t_i} + (r-\\frac12 V_{t_i}^+)\\Delta t + \\sqrt{V_{t_i}^+} S_{t_i} (\\rho Z_{i+1}^1 + \\sqrt{1-\\rho^2} Z_{i+1}^2)\\sqrt{\\Delta t},\\\\\n",
        "\\end{aligned}\n",
        "$$\n",
        "где $Z_i^1$ и $Z_i^2$ являются последовательностями н.о.р. стандартных нормальных величин. \n",
        "\n",
        "*Замечание.* Приведенная формула для $X_t$ получается из применения формулы Ито к процессу $S_t$ и замены $V_{t_i}$ на $V_{t_i}^+$ (чтобы избежать отрицательных значений под корнем). Для получения значений $S_t$ положим $S_{t_i} = \\exp(X_{t_i})$."
      ]
    },
    {
      "cell_type": "markdown",
      "id": "ccbb201d",
      "metadata": {
        "id": "ccbb201d"
      },
      "source": [
        "## 1.5. Реализация метода Монте-Карло на Python (медленно)\n",
        "### 1.5.1. Код"
      ]
    },
    {
      "cell_type": "code",
      "execution_count": null,
      "id": "7f44a6f5",
      "metadata": {
        "id": "7f44a6f5"
      },
      "outputs": [],
      "source": [
        "from dataclasses import dataclass\n",
        "import math\n",
        "import random as rnd\n",
        "from scipy import stats as st\n",
        "import matplotlib.pyplot as plt"
      ]
    },
    {
      "cell_type": "code",
      "execution_count": null,
      "id": "e8addd1b",
      "metadata": {
        "id": "e8addd1b"
      },
      "outputs": [],
      "source": [
        "# @dataclass is a convenient construction to avoid writing \n",
        "# __init__ and other standard methods\n",
        "@dataclass\n",
        "class HestonParams:\n",
        "    \"\"\"Parameters of the Heston model.\n",
        "    \n",
        "    Attributes:\n",
        "      s: Stock price at time 0.\n",
        "      v: Variance at time 0.\n",
        "      kappa, theta, sigma, rho: \n",
        "        Corresponding parameters of the model.\n",
        "        \n",
        "    Notes:\n",
        "      The risk-free interest rate is assumed to be 0.\n",
        "    \"\"\"\n",
        "    s: float\n",
        "    v: float\n",
        "    kappa: float\n",
        "    theta: float\n",
        "    sigma: float\n",
        "    rho: float\n",
        "\n",
        "        \n",
        "@dataclass\n",
        "class MCResult:\n",
        "    \"\"\"Results of Monte-Carlo simulation.\n",
        "    \n",
        "    Attributes:\n",
        "      x: Mean of random variates (the estimate of the sought-for value).\n",
        "      error: Margin of error (half of the confidence interval).\n",
        "      paths: Number of simulated paths.\n",
        "    \"\"\"\n",
        "    x: float\n",
        "    error: float    \n",
        "    paths: int\n",
        "\n",
        "        \n",
        "def monte_carlo(simulator, f, error = 1e-3, conf_level = 0.95, max_paths = 1000000):\n",
        "    \"\"\"Estimates the expectation of a random variable by the Monte-Carlo method.\n",
        "\n",
        "    This function computes the expected value `E(f(X))`, where `f` is the\n",
        "    provided function and `X` is a random element which is simulated by\n",
        "    calling `simulator`. The value of `X` need not be a scalar. For example, \n",
        "    `X` can be an array or list representing a path of a random process.\n",
        "\n",
        "    Args:\n",
        "      simulator: Function which produces random realizations.\n",
        "      f: Function which is applied to the random realizations. \n",
        "      error: Desired margin of error.\n",
        "      conf_level: Confidence level.\n",
        "      max_paths: Maximum number of paths to simulate. The desired margin of \n",
        "        error may be not reached if more than `max_paths` paths are required.\n",
        "\n",
        "    Returns:\n",
        "      An `MCResult` structure with simulation results.\n",
        "    \"\"\"\n",
        "    z = st.norm.ppf((1+conf_level)/2)\n",
        "    x = 0      # estimate of `E(f(X))`\n",
        "    x_sq = 0   # estimate of `E(f(X)^2)`\n",
        "    s = 0      # standard error of x\n",
        "    n = 0      # paths counter\n",
        "    while (n < 10 or (z*s/math.sqrt(n) > error and n < max_paths)):\n",
        "        y = f(simulator())\n",
        "        x = (x*n + y)/(n+1)                 \n",
        "        x_sq = (x_sq*n + y**2) / (n+1)      \n",
        "        s = math.sqrt(x_sq - x**2)  \n",
        "        n += 1       \n",
        "    \n",
        "    return MCResult(x, z*s/math.sqrt(n), n)\n",
        "\n",
        "\n",
        "def heston_euler(h, t, steps):\n",
        "    \"\"\"Simulation of the price process in the Heston model by Euler's scheme.\n",
        "    \n",
        "    Args:\n",
        "      h: Model parameters (HestonParams).\n",
        "      t: Time horizon.\n",
        "      steps: Number of simulation steps.\n",
        "      \n",
        "    Returns:\n",
        "      A list of length `steps+1` with simulated values of one path of the process \n",
        "      at points `t_i = i*t/n`, where `i=0,1,...,steps`.\n",
        "    \"\"\"\n",
        "    dt = t/steps\n",
        "    S = [h.s]\n",
        "    V = [h.v]\n",
        "        \n",
        "    for i in range(steps):\n",
        "        v_plus = max(V[i], 0)\n",
        "        Z1 = rnd.gauss(0, 1)\n",
        "        Z2 = rnd.gauss(0, 1)\n",
        "        V.append(V[-1] + h.kappa*(h.theta-v_plus)*dt + h.sigma*math.sqrt(v_plus) * Z1*math.sqrt(dt))\n",
        "        S.append(S[-1] * math.exp(\n",
        "            -0.5*v_plus*dt + math.sqrt(v_plus)*(h.rho*Z1 + math.sqrt(1-h.rho**2)*Z2)*math.sqrt(dt)))\n",
        "    \n",
        "    return S"
      ]
    },
    {
      "cell_type": "markdown",
      "id": "9488094e",
      "metadata": {
        "id": "9488094e"
      },
      "source": [
        "### 1.5.2. Примеры\n",
        "Во всех примерах далее будут использоваться следующие значения параметров модели Хестона\n",
        "$$\n",
        "s = 1, \\quad v=0.2, \\quad \\kappa=1, \\quad \\theta=0.2, \\quad \\sigma=0.4, \\quad \\rho=-0.1.\n",
        "$$\n",
        "Будем рассматривать опцион колл с временем исполнения $T=\\frac 12$ и количеством точек $n=125$ в разбиении отрезка $[0,\\frac12]$ (что соответствует $\\frac12$ года и 125 торговым дням за этот промежуток)."
      ]
    },
    {
      "cell_type": "code",
      "execution_count": null,
      "id": "4b1ceae3",
      "metadata": {
        "id": "4b1ceae3"
      },
      "outputs": [],
      "source": [
        "# Parameters of the Heston model used below\n",
        "h = HestonParams(s=1, v=0.2, kappa=1, theta=0.2, sigma=0.4, rho=-0.1)\n",
        "t = 0.5\n",
        "steps = 125"
      ]
    },
    {
      "cell_type": "code",
      "execution_count": null,
      "id": "c41e4a17",
      "metadata": {
        "id": "c41e4a17",
        "colab": {
          "base_uri": "https://localhost:8080/",
          "height": 265
        },
        "outputId": "c755b3ee-1f92-4975-df6f-b37d220e4caf"
      },
      "outputs": [
        {
          "output_type": "display_data",
          "data": {
            "text/plain": [
              "<Figure size 432x288 with 1 Axes>"
            ],
            "image/png": "[encoded data removed]"
          },
          "metadata": {
            "needs_background": "light"
          }
        }
      ],
      "source": [
        "# Example 1: simulation of random paths\n",
        "for i in range(10):\n",
        "    plt.plot(heston_euler(h, t, steps))"
      ]
    },
    {
      "cell_type": "code",
      "execution_count": null,
      "id": "c37b6894",
      "metadata": {
        "id": "c37b6894",
        "colab": {
          "base_uri": "https://localhost:8080/"
        },
        "outputId": "e8c27672-4f8a-4a48-b06b-2512fa4cc845"
      },
      "outputs": [
        {
          "output_type": "stream",
          "name": "stdout",
          "text": [
            "CPU times: user 1.93 s, sys: 3.13 ms, total: 1.94 s\n",
            "Wall time: 1.94 s\n",
            "-----\n",
            "MCResult(x=0.09094798992042519, error=0.005656441324589171, paths=5000)\n"
          ]
        }
      ],
      "source": [
        "#### Example 2: Computation of a call option price\n",
        "k = 1.1\n",
        "%time res = monte_carlo(lambda: heston_euler(h, t, steps), lambda s: max(s[-1] - k, 0), max_paths=5000)\n",
        "print(\"-----\")\n",
        "print(res)\n",
        "\n",
        "# Remark: the maximum number of paths is limited to 5000 to save time. \n",
        "# Here, to achieve error=1e-3, approximately 140000 paths are required. "
      ]
    },
    {
      "cell_type": "markdown",
      "id": "8ad2ae72",
      "metadata": {
        "id": "8ad2ae72"
      },
      "source": [
        "# 2. NumPy: быстрые операции с массивами\n",
        "\n",
        "В стандартном Python для работы с массивами нужно использовать списки. Например, `x = [[1, 0], [0, 1]]` задает единичную матрицу 2x2. Недостатки: неудобно и медленно.\n",
        "\n",
        "**NumPy** (**Num**erical **Py**thon) - это пакет для быстрых операций с массивами, линейной алгебры, преобразований Фурье, и других алгоритмов. "
      ]
    },
    {
      "cell_type": "code",
      "execution_count": null,
      "id": "626c8f72",
      "metadata": {
        "id": "626c8f72"
      },
      "outputs": [],
      "source": [
        "import numpy as np"
      ]
    },
    {
      "cell_type": "markdown",
      "id": "4b4a2ad9",
      "metadata": {
        "id": "4b4a2ad9"
      },
      "source": [
        "## 2.1. Краткое введение в NumPy на примерах\n",
        "### 2.1.1. Создание массивов"
      ]
    },
    {
      "cell_type": "code",
      "execution_count": null,
      "id": "d060a96f",
      "metadata": {
        "id": "d060a96f",
        "colab": {
          "base_uri": "https://localhost:8080/"
        },
        "outputId": "6ccfc536-59a9-453a-dd10-c914e5429433"
      },
      "outputs": [
        {
          "output_type": "stream",
          "name": "stdout",
          "text": [
            "x =\n",
            " [ 1  2  5 10]\n",
            "y =\n",
            " [[1 0]\n",
            " [0 1]\n",
            " [1 1]]\n",
            "x: dimensions 1 | shape (4,) | size 4\n",
            "y: dimensions 2 | shape (3, 2) | size 6\n"
          ]
        }
      ],
      "source": [
        "# Creation of an array from a list\n",
        "x = np.array([1, 2, 5, 10])\n",
        "print(\"x =\\n\", x)\n",
        "\n",
        "# Creation of a 2-dimensional array\n",
        "# (multidimensional arrays are created in a similar way)\n",
        "y = np.array([[1,0], [0,1], [1,1]])\n",
        "print(\"y =\\n\", y)\n",
        "\n",
        "# An array has dimensions, shape (lengths of each dimension), size (total number of elements)\n",
        "print(\"x: dimensions\", x.ndim, \"| shape\", x.shape, \"| size\", x.size)\n",
        "print(\"y: dimensions\", y.ndim, \"| shape\", y.shape, \"| size\", y.size)"
      ]
    },
    {
      "cell_type": "code",
      "execution_count": null,
      "id": "5f98cf08",
      "metadata": {
        "id": "5f98cf08",
        "colab": {
          "base_uri": "https://localhost:8080/"
        },
        "outputId": "ca8acf8a-cce1-4118-c79b-3ecf2afae901"
      },
      "outputs": [
        {
          "output_type": "stream",
          "name": "stdout",
          "text": [
            "x =\n",
            " [0. 0. 0. 0. 0.] \n",
            "y =\n",
            " [[1. 1.]\n",
            " [1. 1.]\n",
            " [1. 1.]] \n",
            "z =\n",
            " [[4.9e-324 9.9e-324]\n",
            " [2.5e-323 4.9e-323]] \n",
            "u =\n",
            " [0 2 4 6 8] \n",
            "v =\n",
            " [0.  0.1 0.2 0.3 0.4 0.5 0.6 0.7 0.8 0.9 1. ]\n"
          ]
        }
      ],
      "source": [
        "# Creation of some simple arrays of a given shape\n",
        "x = np.zeros(shape=5)\n",
        "y = np.ones(shape=(3,2))\n",
        "\n",
        "# Empty arrays are useful to pre-allocate memory\n",
        "# (but when created, they contain garbage data)\n",
        "z = np.empty(shape=(2,2))\n",
        "\n",
        "# `np.arange(start, stop, step)` is similar to Python's `range`\n",
        "# and returns the array [start, start+step, start+2*step, ..., stop)\n",
        "u = np.arange(0,10, 2) \n",
        "\n",
        "# `np.linspace(a, b, n)` divides [a, b] into n-1 equal intervals\n",
        "v = np.linspace(0,1,11)\n",
        "\n",
        "print(\"x =\\n\", x, \"\\ny =\\n\", y, \"\\nz =\\n\", z, \"\\nu =\\n\", u, \"\\nv =\\n\", v)"
      ]
    },
    {
      "cell_type": "markdown",
      "id": "857986da",
      "metadata": {
        "id": "857986da"
      },
      "source": [
        "### 2.1.2. Массивы случайных чисел"
      ]
    },
    {
      "cell_type": "code",
      "execution_count": null,
      "id": "3e090022",
      "metadata": {
        "id": "3e090022",
        "colab": {
          "base_uri": "https://localhost:8080/"
        },
        "outputId": "83db237a-9b4c-4ba2-f352-e2500a51f8b2"
      },
      "outputs": [
        {
          "output_type": "stream",
          "name": "stdout",
          "text": [
            "x =\n",
            " [0.30937355 0.08134426 2.16389529 1.02247086 1.20839302] \n",
            "y =\n",
            " [[ 1.5573663  -0.62830058]\n",
            " [ 0.82393437 -0.80423728]]\n",
            "z =\n",
            " [0.06981671 0.52125511 0.48779617]\n"
          ]
        }
      ],
      "source": [
        "# For the standard normal distribution use np.random.randn\n",
        "# or `np.random.standard_normal` \n",
        "# The argument `size` is the shape of the generated array\n",
        "x = np.random.standard_normal(size=5)\n",
        "y = np.random.standard_normal(size=(2,2))\n",
        "print(\"x =\\n\", x, \"\\ny =\\n\", y)\n",
        "\n",
        "# For the uniform distribution on [0, 1), use `np.random.random` \n",
        "# or `np.random.random_sample`\n",
        "z = np.random.random_sample(size=3)\n",
        "print(\"z =\\n\", z)"
      ]
    },
    {
      "cell_type": "markdown",
      "id": "72e12599",
      "metadata": {
        "id": "72e12599"
      },
      "source": [
        "### 2.1.3. Доступ к элементам массива"
      ]
    },
    {
      "cell_type": "code",
      "execution_count": null,
      "id": "dd02fb23",
      "metadata": {
        "id": "dd02fb23",
        "colab": {
          "base_uri": "https://localhost:8080/"
        },
        "outputId": "0f9cb4af-7d17-4f51-8cd0-b9d4f077f6e1"
      },
      "outputs": [
        {
          "output_type": "stream",
          "name": "stdout",
          "text": [
            "x =\n",
            " [0.  0.1 0.2 0.3 0.4 0.5 0.6 0.7 0.8 0.9 1. ]\n",
            "x[5] =  0.5\n",
            "x[-1] =  1.0\n",
            "-----\n",
            "y =\n",
            " [[-1.28343728  1.65783472  0.75771949]\n",
            " [-0.96880011 -1.13793366 -2.55108533]\n",
            " [ 3.38885817 -0.2466123  -1.59687963]]\n",
            "y[1,1] = -1.1379336565109615\n",
            "y[1] = [-0.96880011 -1.13793366 -2.55108533]\n",
            "-----\n"
          ]
        }
      ],
      "source": [
        "# For a 1-dimensional array use x[i]\n",
        "# Note: indices start from 0.\n",
        "# Negative indices count from the end (-1 is the last element).\n",
        "x = np.linspace(0, 1, 11)\n",
        "print(\"x =\\n\", x)\n",
        "print(\"x[5] = \", x[5])\n",
        "print(\"x[-1] = \", x[-1])\n",
        "print(\"-----\")\n",
        "\n",
        "# For a 2-dimensional array use y[i,j]; while y[i] returns the i-th row.\n",
        "# Similarly for N-dimensional arrays.\n",
        "y = np.random.standard_normal((3,3))\n",
        "print(\"y =\\n\", y)\n",
        "print(\"y[1,1] =\", y[1,1])\n",
        "print(\"y[1] =\", y[1])\n",
        "print(\"-----\")\n"
      ]
    },
    {
      "cell_type": "markdown",
      "id": "df6ef7a3",
      "metadata": {
        "id": "df6ef7a3"
      },
      "source": [
        "### 2.1.4. Срезы"
      ]
    },
    {
      "cell_type": "code",
      "execution_count": null,
      "id": "24d74f47",
      "metadata": {
        "id": "24d74f47",
        "colab": {
          "base_uri": "https://localhost:8080/"
        },
        "outputId": "e4bb4899-5f62-4ae5-fc4e-a805374a27c9"
      },
      "outputs": [
        {
          "output_type": "stream",
          "name": "stdout",
          "text": [
            "x =\n",
            " [0.  0.1 0.2 0.3 0.4 0.5 0.6 0.7 0.8 0.9 1. ]\n",
            "x[1:5] = [0.1 0.2 0.3 0.4]\n",
            "x[:5] = [0.  0.1 0.2 0.3 0.4]\n",
            "x[2:6:2] = [0.2 0.4]\n",
            "-----\n",
            "y =\n",
            " [[-0.10073619 -0.33252863 -0.15735338]\n",
            " [ 0.94588951 -0.86316328 -0.14757849]\n",
            " [-0.47302901  0.37963475 -2.18095789]]\n",
            "y[:,1] = [-0.33252863 -0.86316328  0.37963475]\n",
            "y[1:,0] = [ 0.94588951 -0.47302901]\n"
          ]
        }
      ],
      "source": [
        "# To get elements between i-th (inclusively) and j-th (exclusively) positions, use\n",
        "# x[i:j]\n",
        "x = np.linspace(0, 1, 11)\n",
        "print(\"x =\\n\", x)\n",
        "print(\"x[1:5] =\", x[1:5])\n",
        "\n",
        "# In particular, x[i:] are all elements starting from the i-th one (including it)\n",
        "# x[:j] are all elements up to the j-th one (not including it)\n",
        "print(\"x[:5] =\", x[:5])\n",
        "\n",
        "# To get each n-th element between i-th and j-th positions, use\n",
        "# x[i:j:n]\n",
        "# In particular, x[i:j] is the same as x[i:j:1] \n",
        "print(\"x[2:6:2] =\", x[2:6:2])\n",
        "print(\"-----\")\n",
        "\n",
        "# Similar rules apply to multidimensional arrays\n",
        "y = np.random.standard_normal((3,3))\n",
        "print(\"y =\\n\", y)\n",
        "print(\"y[:,1] =\", y[:,1])    # column 1\n",
        "print(\"y[1:,0] =\", y[1:,0])  # elements 1,2 from column 0"
      ]
    },
    {
      "cell_type": "markdown",
      "id": "3779b449",
      "metadata": {
        "id": "3779b449"
      },
      "source": [
        "### 2.1.5. Базовые операции"
      ]
    },
    {
      "cell_type": "code",
      "execution_count": null,
      "id": "e49af304",
      "metadata": {
        "id": "e49af304",
        "colab": {
          "base_uri": "https://localhost:8080/"
        },
        "outputId": "d83355c7-020e-4754-dcc6-a16ac320ccb2"
      },
      "outputs": [
        {
          "output_type": "stream",
          "name": "stdout",
          "text": [
            "x = [1 2 3] \n",
            "y = [10 20 30]\n",
            "x + y = [11 22 33] \n",
            "x * (y+1) = [11 42 93]\n",
            "(x,y) = 140\n"
          ]
        }
      ],
      "source": [
        "# Arithmetic operations are performed elementwise\n",
        "x = np.array([1,2,3])\n",
        "y = np.array([10,20,30])\n",
        "print(\"x =\", x, \"\\ny =\", y)\n",
        "print(\"x + y =\", x + y, \"\\nx * (y+1) =\", x*(y+1))\n",
        "\n",
        "# For scalar product and matrix multiplication, use np.dot\n",
        "print(\"(x,y) =\", np.dot(x,y))\n"
      ]
    },
    {
      "cell_type": "code",
      "execution_count": null,
      "id": "11e7eb9d",
      "metadata": {
        "id": "11e7eb9d",
        "colab": {
          "base_uri": "https://localhost:8080/"
        },
        "outputId": "5a247972-2d58-4527-d217-43d985995a96"
      },
      "outputs": [
        {
          "output_type": "stream",
          "name": "stdout",
          "text": [
            "x = [ 0.  1.  2.  3.  4.  5.  6.  7.  8.  9. 10.]\n",
            "sum = 55.0\n",
            "mean = 5.0 \n",
            "variance = 10.0 \n",
            "std. dev. = 3.1622776601683795\n",
            "||x|| = 19.621416870348583\n",
            "-----\n",
            "cumulative sum = [ 0.  1.  3.  6. 10. 15. 21. 28. 36. 45. 55.]\n",
            "difference = [1. 1. 1. 1. 1. 1. 1. 1. 1. 1.]\n"
          ]
        }
      ],
      "source": [
        "# Some common functions \n",
        "x = np.linspace(0, 10, 11)\n",
        "print(\"x =\", x)\n",
        "\n",
        "print(\"sum =\", np.sum(x)) # sum of all elements\n",
        "print(\"mean =\", np.mean(x), \"\\nvariance =\", np.var(x), \"\\nstd. dev. =\", np.std(x)) # mean, variance, std. dev.\n",
        "# note: if x represents a sample, use `np.var(x, ddof=1)` to get an unbiased estimate. Same for np.std\n",
        "print(\"||x|| =\", np.linalg.norm(x))  # L2 (Euclidean) norm\n",
        "print(\"-----\")\n",
        "\n",
        "# Functions that return arrays\n",
        "print(\"cumulative sum =\", np.cumsum(x))  # cumulative (accumulating) sum\n",
        "print(\"difference =\", np.diff(x))  # difference of x[i+1]-x[i] for i=0, ..., x.size-1"
      ]
    },
    {
      "cell_type": "markdown",
      "id": "4d9b908c",
      "metadata": {
        "id": "4d9b908c"
      },
      "source": [
        "### 2.1.6. Универсальные функции"
      ]
    },
    {
      "cell_type": "code",
      "execution_count": null,
      "id": "c6463ccd",
      "metadata": {
        "id": "c6463ccd",
        "colab": {
          "base_uri": "https://localhost:8080/"
        },
        "outputId": "2ab5ca7b-2647-4f56-bc2a-6a3ee5c1bdd0"
      },
      "outputs": [
        {
          "output_type": "stream",
          "name": "stdout",
          "text": [
            "x = [0.  0.2 0.4 0.6 0.8 1. ]\n",
            "sin(x) = [0.         0.19866933 0.38941834 0.56464247 0.71735609 0.84147098]\n",
            "log(exp(x)) = [0.  0.2 0.4 0.6 0.8 1. ]\n"
          ]
        }
      ],
      "source": [
        "# A universal function (ufunc) in NumPy is a function that is applied \n",
        "# to each element of an array and returns an array.\n",
        "# Many standard mathematical function in NumPy are made universal.\n",
        "x = np.linspace(0, 1, 6)\n",
        "print(\"x =\", x)\n",
        "print(\"sin(x) =\", np.sin(x))\n",
        "print(\"log(exp(x)) =\", np.log(np.exp(x)))   # we'll get just x"
      ]
    },
    {
      "cell_type": "markdown",
      "id": "3bb75ff0",
      "metadata": {
        "id": "3bb75ff0"
      },
      "source": [
        "### 2.1.7. Построение графиков"
      ]
    },
    {
      "cell_type": "code",
      "execution_count": null,
      "id": "af6ee5f3",
      "metadata": {
        "id": "af6ee5f3",
        "colab": {
          "base_uri": "https://localhost:8080/",
          "height": 513
        },
        "outputId": "a162690f-1b73-4fb4-e344-edb38455aa3c"
      },
      "outputs": [
        {
          "output_type": "display_data",
          "data": {
            "text/plain": [
              "<Figure size 432x288 with 1 Axes>"
            ],
            "image/png": "[encoded data removed]"
          },
          "metadata": {
            "needs_background": "light"
          }
        },
        {
          "output_type": "display_data",
          "data": {
            "text/plain": [
              "<Figure size 432x288 with 1 Axes>"
            ],
            "image/png": "[encoded data removed]"
          },
          "metadata": {
            "needs_background": "light"
          }
        }
      ],
      "source": [
        "# Use matplotlib.pyplot.plot(x, y) to plot an array y as a function of x,\n",
        "# i.e. to draw a piecewise linear function through the points (x_i, y_i).\n",
        "x = np.linspace(0, 2*np.pi, 100)\n",
        "plt.plot(x, np.sin(x))\n",
        "plt.show()\n",
        "\n",
        "# If y is a 2-dimensional array with shape (n,m), where n==x.size, then\n",
        "# plt.plot(x,y) plots m functions corresponding to y's columns.\n",
        "plt.plot(x, np.transpose([np.sin(x), np.cos(x)]), label=[\"sin(x)\", \"cos(x)\"])\n",
        "plt.legend()\n",
        "plt.show()"
      ]
    },
    {
      "cell_type": "markdown",
      "id": "ba693fd4",
      "metadata": {
        "id": "ba693fd4"
      },
      "source": [
        "## 2.2. Использование NumPy для метода Монте-Карло\n",
        "Мы будем симулировать траектории группами по `batch_size` траекторий в группе и добавим соответствующий параметр в функцию `monte_carlo`."
      ]
    },
    {
      "cell_type": "markdown",
      "id": "d5bec8bb",
      "metadata": {
        "id": "d5bec8bb"
      },
      "source": [
        "### 2.2.1. Код"
      ]
    },
    {
      "cell_type": "code",
      "execution_count": null,
      "id": "24a2762c",
      "metadata": {
        "id": "24a2762c"
      },
      "outputs": [],
      "source": [
        "def monte_carlo(simulator, f, error=1e-3, conf_level=0.95, max_paths=10000000, \n",
        "                batch_size=10000):\n",
        "    \"\"\"Estimates expectation of a random variable by the Monte-Carlo method.\n",
        "\n",
        "    This function computes the expected value `E(f(X))`, where `f` is the\n",
        "    provided function and `X` is a random element which is simulated by\n",
        "    calling `simulator`. \n",
        "\n",
        "    Args:\n",
        "      simulator: Function which produces random realizations. It must be of the\n",
        "        form `simulator(n)`, where `n` is the number of realizations to produce\n",
        "        (it will be called with `n=batch_size`). For example, when simulating\n",
        "        a random process, `simulator(n)` can return an array of shape `(n,d)`,\n",
        "        where `n` is the number of paths, and `d` is the number of points in\n",
        "        each path.\n",
        "      f: Function to apply to the random realizations. It must accept a whole \n",
        "        batch of realizations and return an array which contains the results of\n",
        "        applying the function to each realization in the batch, i.e. when called\n",
        "        as `f(simulator(n))`, it must return an array of length `n`.\n",
        "      error: Desired margin of error.\n",
        "      conf_level: Confidence level.\n",
        "      max_paths: Maximum number of paths to simulate. The desired margin of\n",
        "        error may be not reached if more than `max_paths` paths are required.\n",
        "      batch_size: The size of one batch.\n",
        "\n",
        "     Returns:\n",
        "      An `MCResult` structure with simulation results.\n",
        "    \"\"\"\n",
        "    z = st.norm.ppf((1+conf_level)/2)\n",
        "    x = 0      # estimate of `E(f(X))`\n",
        "    x_sq = 0   # estimate of `E(f(X)^2)`\n",
        "    s = 0      # standard error of x\n",
        "    n = 0      # batches counter (number of paths = n*batch_size)    \n",
        "    \n",
        "    while (n==0 or (z*s/math.sqrt(n*batch_size) > error and n*batch_size < max_paths)):\n",
        "        y = f(simulator(batch_size))\n",
        "        x = (x*n + np.mean(y))/(n+1)\n",
        "        x_sq = (x_sq*n + np.mean(y**2)) / (n+1)\n",
        "        s = math.sqrt(x_sq - x**2) \n",
        "        n += 1\n",
        "    \n",
        "    return MCResult(x, z*s/math.sqrt(n*batch_size), n*batch_size)\n",
        "    \n",
        "    # Remark: in the above function, we could also apply np.sqrt to scalars\n",
        "    # (e.g. np.sqrt(n*batch_size)). This would give the same result, but would be slower.\n",
        "\n",
        "\n",
        "def heston_euler(paths, h, t, steps):\n",
        "    \"\"\"Simulation of the price process in the Heston model by Euler's scheme.\n",
        "    \n",
        "    Args:\n",
        "      paths: Number of paths to simulate.\n",
        "      h: Model parameters.\n",
        "      t: Time horizon.\n",
        "      steps: Number of simulation steps.\n",
        "      \n",
        "    Returns:\n",
        "      An array of shape `(steps+1, paths)` with simulated paths at points\n",
        "      `t_i = i*t/n`, where `i=0,1,...,steps`.\n",
        "    \"\"\"\n",
        "    dt = t/steps\n",
        "    S = np.empty((steps+1, paths))   # S[i,j] is the value of the j-th path at time t_i\n",
        "    V = np.empty((steps+1, paths))   # same for V[i,j]\n",
        "    S[0] = h.s\n",
        "    V[0] = h.v\n",
        "    Z = np.random.randn(2, steps, paths)\n",
        "    \n",
        "    for i in range(steps):\n",
        "        v_plus = np.maximum(V[i], 0)\n",
        "        V[i+1] = V[i] + h.kappa*(h.theta-v_plus)*dt + h.sigma*np.sqrt(v_plus) * Z[0,i]*math.sqrt(dt)\n",
        "        S[i+1] = S[i] * np.exp(\n",
        "            -0.5*v_plus*dt + np.sqrt(v_plus)*(h.rho*Z[0,i] + math.sqrt(1-h.rho**2)*Z[1,i])*math.sqrt(dt))\n",
        "    \n",
        "    return S"
      ]
    },
    {
      "cell_type": "markdown",
      "id": "b3e286c9",
      "metadata": {
        "id": "b3e286c9"
      },
      "source": [
        "### 2.2.2. Примеры"
      ]
    },
    {
      "cell_type": "code",
      "execution_count": null,
      "id": "68d73caa",
      "metadata": {
        "id": "68d73caa",
        "colab": {
          "base_uri": "https://localhost:8080/",
          "height": 268
        },
        "outputId": "b66ffb98-8773-49c1-df2b-bc6f40b93194"
      },
      "outputs": [
        {
          "output_type": "display_data",
          "data": {
            "text/plain": [
              "<Figure size 432x288 with 1 Axes>"
            ],
            "image/png": "[encoded data removed]"
          },
          "metadata": {
            "needs_background": "light"
          }
        }
      ],
      "source": [
        "# Plot several paths just to check the function works correctly\n",
        "plt.plot(np.linspace(0, 0.5, steps+1), heston_euler(10, h, t, steps));"
      ]
    },
    {
      "cell_type": "code",
      "execution_count": null,
      "id": "ffeb946b",
      "metadata": {
        "id": "ffeb946b",
        "colab": {
          "base_uri": "https://localhost:8080/"
        },
        "outputId": "877539c0-bbef-44e7-89f5-57d33294e29a"
      },
      "outputs": [
        {
          "output_type": "stream",
          "name": "stdout",
          "text": [
            "CPU times: user 2.27 s, sys: 19.5 ms, total: 2.29 s\n",
            "Wall time: 2.43 s\n",
            "MCResult(x=0.08561431899497338, error=0.0009945385800200395, paths=140000)\n"
          ]
        }
      ],
      "source": [
        "%time res = monte_carlo(lambda paths: heston_euler(paths, h, t, steps), lambda s: np.maximum(s[-1] - k, 0))\n",
        "print(res)"
      ]
    },
    {
      "cell_type": "markdown",
      "id": "29245866",
      "metadata": {
        "id": "29245866"
      },
      "source": [
        "## 2.3. Добавление контрольной функции\n",
        "\n",
        "Чтобы уменьшить дисперсию $f(X)$ и, следовательно, уменьшить число симуляций, необходимых для достижения заданной точности, можно симулировать величину $f(X) - \\theta Y$, где $Y$ является случайной величиной с нулевым ожиданием. Обычно, $Y=g(X)$ для некоторой удачно выбранной функции $g(x)$. Такая величина $Y$ называется *контрольной функцией* или *контрольной величиной* (control variate).\n",
        "\n",
        "Коэффициент $\\theta$ нужно выбрать оптимальным образом. Наименьшая дисперсия $f(X) - \\theta Y$ достигается при $\\theta = \\mathrm{cov}(X,Y)/\\mathrm{D}(Y)$. Дисперсию $\\mathrm{D}(Y)$ можно оценить также методом Монте-Карло, но с малым числом симуляций."
      ]
    },
    {
      "cell_type": "markdown",
      "id": "c2803ff7",
      "metadata": {
        "id": "c2803ff7"
      },
      "source": [
        "### 2.3.1. Код"
      ]
    },
    {
      "cell_type": "code",
      "execution_count": null,
      "id": "ca82ee91",
      "metadata": {
        "id": "ca82ee91"
      },
      "outputs": [],
      "source": [
        "@dataclass\n",
        "class MCResult:\n",
        "    \"\"\"Results of Monte-Carlo simulation.\n",
        "    \n",
        "    Attributes:\n",
        "      x: Mean of random variates (the estimate of the sought-for value).\n",
        "      error: Margin of error (half of the confidence interval).\n",
        "      paths: Number of simulated paths.\n",
        "      control_var_coef: An estimate of the control variate coefficient `theta`.\n",
        "    \"\"\"\n",
        "    x: float\n",
        "    error: float    \n",
        "    paths: int    \n",
        "    control_var_coef: float = None   # `theta` coefficient\n",
        "        \n",
        " \n",
        "def monte_carlo(simulator, f, error=1e-3, conf_level=0.95, max_paths=10000000, \n",
        "                batch_size=10000, control_f=None, control_estimation_paths=5000):\n",
        "    \"\"\"Estimates expectation of a random variable by the Monte-Carlo method.\n",
        "\n",
        "    This function computes the expected value `E(f(X))`, where `f` is the\n",
        "    provided function and `X` is a random element which is simulated by\n",
        "    calling `simulator`. \n",
        "    \n",
        "    A control variate can be added: if `control_f` is not None, then we simulate\n",
        "    `f(X) - theta*control_f(X)`, where the optimal coefficient `theta` is \n",
        "    estimated from a simulation of `control_estimation_paths` paths. The random \n",
        "    variable `control_f(X)` must have zero expectation.\n",
        "\n",
        "    Args:\n",
        "      simulator: Function which produces random realizations. It must be of the \n",
        "        form `simulator(n)`, where `n` is the number of realizations to produce \n",
        "        (it will be called with `n=batch_size` or `n=control_estimation_paths`). \n",
        "        For example, when simulating a random process, `simulator(n)` can \n",
        "        return an array of shape `(n,d)`, where `n` is the number of paths, and \n",
        "        `d` is the number of points in each path.\n",
        "      f: Function to apply to the random realizations. It must accept a whole \n",
        "        batch of realizations and return an array which contains results of\n",
        "        applying the function to each realization in the batch, i.e. when called \n",
        "        as `f(simulator(n))`, it must return an array of length `n`.\n",
        "      error: Desired margin of error.\n",
        "      conf_level: Confidence level.\n",
        "      max_paths: Maximum number of paths to simulate (to avoid too long \n",
        "        simulation time). The desired margin of error may be not reached\n",
        "        if more than `max_paths` paths are required.\n",
        "      batch_size: The size of one batch.\n",
        "      control_f: Function applied to random realizations to obtain a control variate. \n",
        "        Must satisfy the same requirements as `f`.\n",
        "      control_estimation_paths: Number of paths to simulate for the estimation\n",
        "        of the control variate coefficient.\n",
        "\n",
        "     Returns:\n",
        "      An `MCResult` structure with simulation results.\n",
        "    \"\"\"\n",
        "    z = st.norm.ppf((1+conf_level)/2)\n",
        "    x = 0          # estimate of `E(f(X))`\n",
        "    x_sq = 0       # estimate of `E(f(X)^2)`\n",
        "    s = 0          # standard error of x\n",
        "    n = 0          # batches counter (number of paths = n*batch_size)  \n",
        "    theta = None   # control variate coefficient\n",
        "    \n",
        "    if control_f is not None:\n",
        "        S = simulator(control_estimation_paths)\n",
        "        c = np.cov(f(S), control_f(S))    # c is the covariance matrix for the two random variables\n",
        "        theta = c[0, 1] / c[1, 1]\n",
        "    \n",
        "    while (n==0 or (z*s/math.sqrt(n*batch_size) > error and n*batch_size < max_paths)):\n",
        "        S = simulator(batch_size)\n",
        "        if control_f is not None:\n",
        "            y = f(S) - theta*control_f(S)\n",
        "        else:\n",
        "            y = f(S) \n",
        "        x = (x*n + np.mean(y))/(n+1)\n",
        "        x_sq = (x_sq*n + np.mean(y**2)) / (n+1)\n",
        "        s = math.sqrt(x_sq - x**2) \n",
        "        n += 1\n",
        "    \n",
        "    return MCResult(x, z*s/math.sqrt(n*batch_size), n*batch_size, theta)    "
      ]
    },
    {
      "cell_type": "markdown",
      "id": "e27b9d32",
      "metadata": {
        "id": "e27b9d32"
      },
      "source": [
        "### 2.3.2. Пример"
      ]
    },
    {
      "cell_type": "code",
      "execution_count": null,
      "id": "c8e6e8d3",
      "metadata": {
        "id": "c8e6e8d3",
        "colab": {
          "base_uri": "https://localhost:8080/"
        },
        "outputId": "6cdd03bc-6d78-49c8-9475-91366f0df861"
      },
      "outputs": [
        {
          "output_type": "stream",
          "name": "stdout",
          "text": [
            "CPU times: user 715 ms, sys: 8.85 ms, total: 724 ms\n",
            "Wall time: 725 ms\n",
            "MCResult(x=0.08581004915186433, error=0.0009884132848409842, paths=40000, control_var_coef=0.5079128795803143)\n"
          ]
        }
      ],
      "source": [
        "%time res = monte_carlo(lambda paths: heston_euler(paths, h, t, steps), lambda s: np.maximum(s[-1] - 1.1, 0), control_f = lambda s: s[-1] - 1)\n",
        "print(res)"
      ]
    },
    {
      "cell_type": "markdown",
      "id": "845d122e",
      "metadata": {
        "id": "845d122e"
      },
      "source": [
        "### 2.3.3. Сравнение скорости с C++\n",
        "\n",
        "Программа `mc.cpp` делает те же самые вычисления на C++ (но с некоторыми упрощениями; например, число траекторий фиксировано в 40000, не используется контрольная функция, и т.д.; это только ускоряет ее). Запустив ее, можно увидеть, что время работы будет сравнимо с версией c NumPy.\n",
        "\n",
        "*Замечание:* при компиляции на GCC используйте параметр `-O1`, или `-O2`, или `-O3` , например `g++ -O1 mc.cpp`"
      ]
    },
    {
      "cell_type": "markdown",
      "id": "5441dc1c",
      "metadata": {
        "id": "5441dc1c"
      },
      "source": [
        "## 2.4*. Дополнение: Монте-Карло для векторно-значных функций\n",
        "Модифицируем функцию `monte_carlo` таким образом, чтобы она могла работать с функциями `f`, возвращающими массивы. Например, это удобно для вычисления поверхности цен опционов сразу для нескольких времен исполнения и страйков. \n",
        "\n",
        "Будем считать, что когда функция `f` применяется к группе траекторий `S`, задаваемой массивом с формой `(steps+1, paths)`, то она возвращает массив с формой `(paths, d1, d2, ...)`. Тогда функция `monte_carlo` должна вернуть массив с формой `(d1, d2, ...)`.\n",
        "\n",
        "**Упражнение:** разобраться как работает приведенный ниже код."
      ]
    },
    {
      "cell_type": "code",
      "execution_count": null,
      "id": "c6b21df6",
      "metadata": {
        "id": "c6b21df6"
      },
      "outputs": [],
      "source": [
        "def monte_carlo(simulator, f, error=1e-3, conf_level=0.95, max_paths=10000000, \n",
        "                batch_size=10000, control_f=None, control_estimation_paths=5000):\n",
        "    z = st.norm.ppf((1+conf_level)/2)\n",
        "    x = 0\n",
        "    x_sq = 0\n",
        "    s = 0\n",
        "    n = 0   \n",
        "    theta = None\n",
        "    \n",
        "    if control_f is not None:\n",
        "        def theta_scalar(x, y):\n",
        "            c =  np.cov(x, y)\n",
        "            return c[0, 1] / c[1, 1]\n",
        "        S = simulator(control_estimation_paths)\n",
        "        fS = f(S)\n",
        "        cfS = control_f(S)\n",
        "        theta = np.empty(fS.shape[1:])        \n",
        "        theta.flat = [theta_scalar(x,y) for x,y in \n",
        "                      zip(np.moveaxis(fS, 0, -1).reshape(-1, fS.shape[0]), \n",
        "                          np.moveaxis(cfS, 0, -1).reshape(-1, cfS.shape[0]))]\n",
        "        if theta.ndim == 0:\n",
        "            theta = float(theta)\n",
        "            \n",
        "    while (n==0 or (np.any(z*s/math.sqrt(n*batch_size) > error) and n*batch_size < max_paths)):\n",
        "        S = simulator(batch_size)\n",
        "        if control_f is not None:            \n",
        "            y = f(S) - theta*control_f(S)\n",
        "        else:\n",
        "            y = f(S)            \n",
        "        x = (x*n + np.mean(y, axis=0))/(n+1)\n",
        "        x_sq = (x_sq*n + np.mean(y**2, axis=0)) / (n+1)\n",
        "        s = np.sqrt(x_sq - x**2)\n",
        "        n += 1\n",
        "    \n",
        "    return MCResult(x, z*s/math.sqrt(n*batch_size), n*batch_size, theta)"
      ]
    },
    {
      "cell_type": "code",
      "execution_count": null,
      "id": "00a585d5",
      "metadata": {
        "id": "00a585d5",
        "colab": {
          "base_uri": "https://localhost:8080/"
        },
        "outputId": "e5fbdfb1-4932-4cbf-a2ef-8dacece687af"
      },
      "outputs": [
        {
          "output_type": "stream",
          "name": "stdout",
          "text": [
            "CPU times: user 695 ms, sys: 4.04 ms, total: 699 ms\n",
            "Wall time: 702 ms\n",
            "MCResult(x=array([0.31802097, 0.20560833, 0.12359612, 0.07044364, 0.03897668]), error=array([0.00045652, 0.00074956, 0.00094529, 0.00099419, 0.00092778]), paths=40000, control_var_coef=array([0.91849476, 0.78878717, 0.61352575, 0.43611111, 0.28813763]))\n"
          ]
        }
      ],
      "source": [
        "# As an example, compute options prices for 5 strikes in the range [0.7, 1.3].\n",
        "k = np.linspace(0.7,1.3,5)\n",
        "\n",
        "def payoff(s):\n",
        "    return np.maximum(np.subtract.outer(s[-1], k), 0)\n",
        "    \n",
        "%time res = monte_carlo(lambda paths: heston_euler(paths, h, t, steps), \\\n",
        "                        payoff, \\\n",
        "                        control_f = lambda s: np.subtract.outer(s[-1], np.ones_like(k)))\n",
        "print(res)"
      ]
    },
    {
      "cell_type": "markdown",
      "id": "a1f0542d",
      "metadata": {
        "id": "a1f0542d"
      },
      "source": [
        "# 3. Numba: динамический компилятор для Python\n",
        "\n",
        "Python медленен из-за того, что он является интерпретируемым языком и использует динамические типы данных (а, например, C/C++ является компилируемым со статическими типами данных). \n",
        "\n",
        "Пакет Numba позволяет динамически (\"just-in-time\") компилировать код на Python, что сильно повышает скорость работы. Главная идея состоит в том, чтобы использовать Numba не везде, а только для критических фрагментов программы."
      ]
    },
    {
      "cell_type": "code",
      "execution_count": null,
      "id": "e714e972",
      "metadata": {
        "id": "e714e972"
      },
      "outputs": [],
      "source": [
        "import numba as nb\n",
        "from numba.types import float64, int64\n",
        "from numba.experimental import jitclass"
      ]
    },
    {
      "cell_type": "markdown",
      "id": "474292b4",
      "metadata": {
        "id": "474292b4"
      },
      "source": [
        "## 3.1. Простой пример использования Numba\n",
        "Обычно бывает достаточно просто добавить декоратор `@nb.njit` к функции, чтобы она была скомпилирована (а к классу нужно добавить `@jitclass`, см. далее в разделе 3.2). \n",
        "\n",
        "*Ограничение:* функция с `@nb.njit` может вызывать лишь ограниченный набор других функций - стандартные методы Python, функции из пакета math, функции Numpy, другие функции с `@nb.njit`. Но, например, почти никакие функции из SciPy не поддерживаются."
      ]
    },
    {
      "cell_type": "code",
      "execution_count": null,
      "id": "106b845c",
      "metadata": {
        "id": "106b845c",
        "colab": {
          "base_uri": "https://localhost:8080/"
        },
        "outputId": "ba67275c-0d0b-45ef-9ed6-51cd0d1e49c7"
      },
      "outputs": [
        {
          "output_type": "stream",
          "name": "stdout",
          "text": [
            "Python version:\n",
            "2.19 ms ± 31.7 µs per loop (mean ± std. dev. of 5 runs, 100 loops each)\n",
            "Python+Numba version:\n",
            "167 µs ± 2.83 µs per loop (mean ± std. dev. of 5 runs, 1000 loops each)\n"
          ]
        }
      ],
      "source": [
        "# Functions `f` and `g` below compute the integral of sin(x) over [0, pi].\n",
        "# Note that their code is identical, except the decorator `@nb.njit`.\n",
        "# `g` is more that 10x faster.\n",
        "\n",
        "def f(n):\n",
        "    dt = math.pi/n\n",
        "    x = 0\n",
        "    for i in range(n):\n",
        "        x += math.sin(i*dt)*dt\n",
        "    return x\n",
        "\n",
        "@nb.njit\n",
        "def g(n):\n",
        "    dt = math.pi/n\n",
        "    x = 0\n",
        "    for i in range(n):\n",
        "        x += math.sin(i*dt)*dt\n",
        "    return x\n",
        "\n",
        "print(\"Python version:\")\n",
        "%timeit -n 100 -r 5 f(10000)\n",
        "\n",
        "# We call a Numba function in advance to compile it first (compilation needs some time).\n",
        "# In subsequent calls, the compiled version will be used.\n",
        "g(1) \n",
        "print(\"Python+Numba version:\")\n",
        "%timeit -n 1000 -r 5 g(10000)"
      ]
    },
    {
      "cell_type": "markdown",
      "id": "733332cf",
      "metadata": {
        "id": "733332cf"
      },
      "source": [
        "## 3.2. Монте-Карло с Numba (однопоточная версия)\n",
        "### 3.2.1. Код"
      ]
    },
    {
      "cell_type": "code",
      "execution_count": null,
      "id": "7d1ed211",
      "metadata": {
        "id": "7d1ed211"
      },
      "outputs": [],
      "source": [
        "# We need to rewrite our HestonParams structure to make it possible \n",
        "# to pass as a function argument. This is done with @jitclass decorator\n",
        "# (roughly equivalent to struct in C).\n",
        "# Unfortunately, @dataclass is not supported, so we have to define __init__.\n",
        "@jitclass([(\"s\", float64),\n",
        "           (\"v\", float64),\n",
        "           (\"kappa\", float64),\n",
        "           (\"theta\", float64),\n",
        "           (\"sigma\", float64),\n",
        "           (\"rho\", float64)])\n",
        "class HestonParams:\n",
        "    def __init__(self, s, v, kappa, theta, sigma, rho):\n",
        "        self.s = s\n",
        "        self.v = v\n",
        "        self.kappa = kappa\n",
        "        self.theta = theta\n",
        "        self.sigma = sigma\n",
        "        self.rho = rho\n",
        "        \n",
        "        \n",
        "@nb.njit\n",
        "def heston_euler(paths, h, t, steps):\n",
        "    dt = t/steps\n",
        "    S = np.empty((steps+1, paths))\n",
        "    V = np.empty((steps+1, paths))\n",
        "    S[0] = h.s\n",
        "    V[0] = h.v\n",
        "    Z = np.random.randn(2, steps, paths)\n",
        "    \n",
        "    for n in range(paths):\n",
        "        for i in range(steps):\n",
        "          v_plus = max(V[i,n], 0)\n",
        "          V[i+1,n] = V[i,n] + h.kappa*(h.theta-v_plus)*dt + h.sigma*math.sqrt(v_plus) * Z[0,i,n]*math.sqrt(dt)\n",
        "          S[i+1,n] = S[i,n] * math.exp(\n",
        "              -0.5*v_plus*dt + math.sqrt(v_plus)*(h.rho*Z[0,i,n] + math.sqrt(1-h.rho**2)*Z[1,i,n])*math.sqrt(dt))\n",
        "    \n",
        "    return S"
      ]
    },
    {
      "cell_type": "markdown",
      "id": "79351c9d",
      "metadata": {
        "id": "79351c9d"
      },
      "source": [
        "### 3.2.2. Пример"
      ]
    },
    {
      "cell_type": "code",
      "execution_count": null,
      "id": "f46a0928",
      "metadata": {
        "id": "f46a0928",
        "colab": {
          "base_uri": "https://localhost:8080/",
          "height": 267
        },
        "outputId": "12a815ff-0701-459d-f620-ab69bbf70393"
      },
      "outputs": [
        {
          "output_type": "display_data",
          "data": {
            "text/plain": [
              "<Figure size 432x288 with 1 Axes>"
            ],
            "image/png": "[encoded data removed]"
          },
          "metadata": {
            "needs_background": "light"
          }
        }
      ],
      "source": [
        "# Plot several paths\n",
        "\n",
        "# We need to redeclare h, because `HestonParams` now is a jitted class\n",
        "h = HestonParams(1, 0.2, 1, 0.2, 0.4, -0.1)\n",
        "plt.plot(heston_euler(10, h, t, steps));\n",
        "\n",
        "# Note that the first run of this cell may take much time (several seconds) \n",
        "# since Numba needs to compile `heston_euler`. Subsequent runs will be much faster."
      ]
    },
    {
      "cell_type": "code",
      "execution_count": null,
      "id": "b8e664a2",
      "metadata": {
        "id": "b8e664a2",
        "colab": {
          "base_uri": "https://localhost:8080/"
        },
        "outputId": "74fa6cc5-87c4-4256-b3a4-3c498fcad607"
      },
      "outputs": [
        {
          "output_type": "stream",
          "name": "stdout",
          "text": [
            "CPU times: user 871 ms, sys: 4.88 ms, total: 876 ms\n",
            "Wall time: 876 ms\n",
            "MCResult(x=0.08554139828624094, error=0.0009889209517717952, paths=40000, control_var_coef=0.4815662685556683)\n"
          ]
        }
      ],
      "source": [
        "# Compute option price\n",
        "# Note: this version may be slightly slower than NumPy version \n",
        "k = 1.1\n",
        "%time res = monte_carlo(lambda paths: heston_euler(paths, h, t, steps),\\\n",
        "                        lambda s: np.maximum(s[-1] - k, 0),\\\n",
        "                        control_f = lambda s: s[-1] - 1)\n",
        "print(res)"
      ]
    },
    {
      "cell_type": "markdown",
      "id": "7db810ac",
      "metadata": {
        "id": "7db810ac"
      },
      "source": [
        "## 3.3. Многопоточная версия метода Монте-Карло\n",
        "Методы Монте-Карло хорошо распараллеливаются на несколько ядер процессора. В Numba для этого достаточно добавить аргумент `parallel=True` в декоратор `@nb.njit` (это автоматически сделает некоторые операции параллельными, например операции с массивами в NumPy и генерацию случайных числе), а также указать какие циклы нужно выполнять параллельно, используя `nb.prange` вместо стандартного `range`."
      ]
    },
    {
      "cell_type": "markdown",
      "id": "0708e2dd",
      "metadata": {
        "id": "0708e2dd"
      },
      "source": [
        "### 3.3.1. Код"
      ]
    },
    {
      "cell_type": "code",
      "execution_count": null,
      "id": "e93bb5c3",
      "metadata": {
        "id": "e93bb5c3"
      },
      "outputs": [],
      "source": [
        "# The following is the same version as above, with only two changes\n",
        "\n",
        "@nb.njit(parallel=True)                  # added `parallel=True`\n",
        "def heston_euler(paths, h, t, steps):\n",
        "    dt = t/steps\n",
        "    S = np.empty((steps+1, paths))\n",
        "    V = np.empty((steps+1, paths))\n",
        "    S[0] = h.s\n",
        "    V[0] = h.v\n",
        "    Z = np.random.randn(2, steps, paths)\n",
        "    \n",
        "    for n in nb.prange(paths):           # changed `range` to `nb.prange`\n",
        "        for i in range(steps):\n",
        "          v_plus = max(V[i,n], 0)\n",
        "          V[i+1,n] = V[i,n] + h.kappa*(h.theta-v_plus)*dt + h.sigma*np.sqrt(v_plus) * Z[0,i,n]*np.sqrt(dt)\n",
        "          S[i+1,n] = S[i,n] * np.exp(\n",
        "              -0.5*v_plus*dt + np.sqrt(v_plus)*(h.rho*Z[0,i,n] + np.sqrt(1-h.rho**2)*Z[1,i,n])*np.sqrt(dt))\n",
        "    \n",
        "    return S"
      ]
    },
    {
      "cell_type": "markdown",
      "id": "3f656617",
      "metadata": {
        "id": "3f656617"
      },
      "source": [
        "### 3.3.2. Пример"
      ]
    },
    {
      "cell_type": "code",
      "execution_count": null,
      "id": "61f4f05a",
      "metadata": {
        "id": "61f4f05a"
      },
      "outputs": [],
      "source": [
        "# Run this cell twice: the first time will be slow, because Numba will recompile `heston_euler`\n",
        "%time res = monte_carlo(lambda paths: heston_euler(paths, h, t, steps),\\\n",
        "                        lambda s: np.maximum(s[-1] - k, 0),\\\n",
        "                        control_f = lambda s: s[-1] - 1)\n",
        "print(res)"
      ]
    },
    {
      "cell_type": "markdown",
      "id": "a00e8424",
      "metadata": {
        "id": "a00e8424"
      },
      "source": [
        "## 3.4*. Дальнейшие улучшения (функция monte_carlo с использованием Numba)\n",
        "Команда `%lprun` из пакета `line_profiler` позволяет понять, сколько времени выполняется каждая строка кода. Мы увидим, что в нашем примере с Монте-Карло наиболее трудоемкой является функция `heston_euler`, поэтому, видимо, не будет существенного прироста скорости, если мы перепишем `monte_carlo` с использованием Numba."
      ]
    },
    {
      "cell_type": "code",
      "execution_count": null,
      "id": "69c3f489",
      "metadata": {
        "id": "69c3f489"
      },
      "outputs": [],
      "source": [
        "%load_ext line_profiler"
      ]
    },
    {
      "cell_type": "code",
      "execution_count": null,
      "id": "090d6740",
      "metadata": {
        "id": "090d6740"
      },
      "outputs": [],
      "source": [
        "# The following function is copied from Part 2.2 for convenience \n",
        "# (and to overwrite the vector-valued version)\n",
        "\n",
        "def monte_carlo(simulator, f, error=1e-3, conf_level=0.95, max_paths=10000000, \n",
        "                batch_size=10000, control_f=None, control_estimation_paths=5000):\n",
        "    z = st.norm.ppf((1+conf_level)/2)\n",
        "    x = 0          # estimate of `E(f(X))`\n",
        "    x_sq = 0       # estimate of `E(f(X)^2)`\n",
        "    s = 0          # standard error of x\n",
        "    n = 0          # batches counter (number of paths = n*batch_size)  \n",
        "    theta = None   # control variate coefficient\n",
        "    \n",
        "    if control_f is not None:\n",
        "        S = simulator(control_estimation_paths)\n",
        "        c = np.cov(f(S), control_f(S))    # c is the covariance matrix for the two random variables\n",
        "        theta = c[0, 1] / c[1, 1]\n",
        "    \n",
        "    while (n==0 or (z*s/math.sqrt(n*batch_size) > error and n*batch_size < max_paths)):\n",
        "        S = simulator(batch_size)\n",
        "        if control_f is not None:\n",
        "            y = f(S) - theta*control_f(S)\n",
        "        else:\n",
        "            y = f(S) \n",
        "        x = (x*n + np.mean(y))/(n+1)\n",
        "        x_sq = (x_sq*n + np.mean(y**2)) / (n+1)\n",
        "        s = math.sqrt(x_sq - x**2) \n",
        "        n += 1\n",
        "    \n",
        "    return MCResult(x, z*s/math.sqrt(n*batch_size), n*batch_size, theta)    \n",
        "\n",
        "%lprun -f monte_carlo res = monte_carlo(lambda paths: heston_euler(paths, h, t, steps),\\\n",
        "                                        lambda s: np.maximum(s[-1] - k, 0),\\\n",
        "                                        control_f = lambda s: s[-1] - 1)"
      ]
    },
    {
      "cell_type": "code",
      "execution_count": null,
      "id": "5df665bd",
      "metadata": {
        "id": "5df665bd"
      },
      "outputs": [],
      "source": [
        "# monte_carlo rewritten with Numba\n",
        "# (no significant improvement compared to the previous version)\n",
        "\n",
        "@jitclass([(\"x\", float64),\n",
        "           (\"error\", float64),\n",
        "           (\"paths\", int64),\n",
        "           (\"control_var_coef\", float64)])            \n",
        "class MCResult:\n",
        "    def __init__(self, x, error, paths, control_var_coef):\n",
        "        self.x = x\n",
        "        self.error = error    \n",
        "        self.paths = paths\n",
        "        self.control_var_coef = control_var_coef\n",
        "        \n",
        "\n",
        "@nb.njit\n",
        "def monte_carlo(simulator, f, error=1e-3, z_cr=1.96, max_paths=10000000, \n",
        "                batch_size=10000, control_f=None, control_estimation_paths=5000,\n",
        "                simulator_args=(), f_args=(), control_f_args=()):\n",
        "    \n",
        "    x = 0\n",
        "    x_sq = 0\n",
        "    s = 0\n",
        "    n = 0    \n",
        "    theta = None\n",
        "    \n",
        "    if control_f is not None:\n",
        "        S = simulator(control_estimation_paths, *simulator_args)\n",
        "        c = np.cov(f(S, *f_args), control_f(S, *control_f_args))\n",
        "        theta = c[0, 1] / c[1, 1]\n",
        "    \n",
        "    while (n==0 or (z_cr*s/math.sqrt(n*batch_size) > error and n*batch_size < max_paths)):\n",
        "        S = simulator(batch_size, *simulator_args)\n",
        "        if theta is not None:\n",
        "            y = f(S, *f_args) - theta*control_f(S, *control_f_args)\n",
        "        else:\n",
        "            y = f(S, *f_args)            \n",
        "        x = (x*n + np.mean(y))/(n+1)\n",
        "        x_sq = (x_sq*n + np.mean(y**2)) / (n+1)\n",
        "        s = math.sqrt(x_sq - x**2)\n",
        "        n += 1\n",
        "    \n",
        "    return MCResult(x, z_cr*s/math.sqrt(n*batch_size), n*batch_size, theta)\n",
        "\n",
        "# All functions called from jitted code must be jitted as well. Hence we have to \n",
        "# rewrite the payoff function anf the control variate.\n",
        "@nb.njit\n",
        "def call_payoff(s, k):\n",
        "    return np.maximum(s[-1] - k, 0)\n",
        "\n",
        "@nb.njit\n",
        "def call_control(s):\n",
        "    return s[-1] - 1 \n",
        "\n",
        "# Exercise: Why do we need to add to `monte_carlo` arguments `z_cr`, `simulator_args`, `f_args`, `control_f_args`?"
      ]
    },
    {
      "cell_type": "code",
      "execution_count": null,
      "id": "d5e7ef0b",
      "metadata": {
        "id": "d5e7ef0b"
      },
      "outputs": [],
      "source": [
        "# Run this cell twice\n",
        "%time res = monte_carlo(simulator=heston_euler,\\\n",
        "                        f=call_payoff,\\\n",
        "                        control_f=call_control,\\\n",
        "                        simulator_args=(h, t, steps),\\\n",
        "                        f_args=(k,))\n",
        "\n",
        "# We need an explicit print, because `MCResult` is not a dataclass anymore\n",
        "print(f\"x={res.x}, error={res.error}, paths={res.paths}\")"
      ]
    },
    {
      "cell_type": "markdown",
      "id": "33adca84",
      "metadata": {
        "id": "33adca84"
      },
      "source": [
        "## Таблица результатов\n",
        "\n",
        "Скорость работы всех версий нашего метода Монте-Карло (на моем компьютере).\n",
        "\n",
        "| Версия | Время (сек.) |\n",
        "|---------|------------|\n",
        "|Python   |~45        |\n",
        "|NumPy    |1.13        |\n",
        "|NumPy + control variate| 0.427|\n",
        "|Numba (single thread)  | 0.491| \n",
        "|Numba (parallel)       |0.168 |\n",
        "|Numba (with new monte_carlo) | 0.137|"
      ]
    },
    {
      "cell_type": "markdown",
      "id": "6d619477",
      "metadata": {
        "id": "6d619477"
      },
      "source": [
        "# 4. Формула Хестона и Numba\n",
        "\n",
        "## 4.1. Формула Хестона для цены европейского опциона\n",
        "Приводимая ниже аналитическая формула для цены европейского опциона колл основана на следующих идеях.\n",
        "\n",
        "1\\.  Цену опциона можно представить в виде\n",
        "$$C = s\\tilde\\Pi - e^{-rT}K\\Pi,$$\n",
        "где $\\tilde\\Pi = \\tilde P(S_T>K)$ и $\\Pi=P(S_T>K)$ являются вероятностями исполнения опциона по мартингальной мере $P$ и по мере $\\tilde P$, относительно которой процесс $e^{rt}/S_t$ является мартингалом.\n",
        "\n",
        "2\\. Вероятности исполнения опционов определяются функцией распределения величины $S_T$ или, эквивалентно, величины $X_T = \\ln(S_T)$. Функцию распределения $X_T$ можно выразить через обращение ее характеристической функции.\n",
        "\n",
        "3\\. Характеристическую функцию $X_T$ можно найти в явном виде, решив уравнение с частными производными, которое получается из применения формулы Фейнмана-Каца.\n",
        "\n",
        "**Теорема (S. Heston, 1993).** Цена опциона колл со временем исполнения $T$ и страйком $K$ задается формулой\n",
        "$$\n",
        "C = \\frac{s-e^{-rT} K}{2} + \\frac1\\pi \\int_0^\\infty \n",
        "\\mathrm{Re}\\left( \\frac{e^{-iu\\ln K} (s \\tilde\\phi(u) - e^{-rT}K \\phi(u))}{iu} \\right) du, \n",
        "$$\n",
        "где $\\phi(u) = E e^{iu\\ln X_T}$ является характеристической функцией лог-цены $X_T = \\ln S_T$ относительно мартингальной меры, а\n",
        "$\\tilde\\phi(u)$ является такой же функцией относительно меры, для которой $e^{rt}/S_t$ является мартингалом. Эти функции связаны соотношением\n",
        "$$\n",
        "\\tilde\\phi(u) = \\frac{\\phi(u-i)}{s e^{rT}}.\n",
        "$$\n",
        "Функция $\\phi(u)$ имеет вид (с $i=\\sqrt{-1}$)\n",
        "$$\n",
        "\\phi(u) = \\exp(C(u) + D(u)v + iu \\ln s),\n",
        "$$\n",
        "где\n",
        "$$\n",
        "\\begin{aligned}\n",
        "&C(u) = irT u + \\frac{\\kappa\\theta}{\\sigma^2}\n",
        "  \\left(\n",
        "    (\\kappa- i\\rho\\sigma u - d(u)) T -\n",
        "    2\\ln\\left( \\frac{1-g(u)e^{-d(u)T}}{1-g(u)} \\right)\n",
        "  \\right),\\\\\n",
        "&D(u) = \\frac{\\kappa - i\\rho\\sigma u - d(u)}{\\sigma^2}\n",
        "  \\left( \\frac{1-e^{-d(u)T}}{1-g(u)e^{-d(u)T}} \\right),\n",
        "\\end{aligned}\n",
        "$$\n",
        "и\n",
        "$$\n",
        "d(u) = \\sqrt{(i\\rho\\sigma u - \\kappa)^2 + \\sigma^2(iu + u^2)}, \\qquad\n",
        "g(u) = \\frac{i\\rho\\sigma u- \\kappa +d(u)}{i\\rho\\sigma u - \\kappa -d(u)}.\n",
        "$$\n"
      ]
    },
    {
      "cell_type": "markdown",
      "id": "c45b238b",
      "metadata": {
        "id": "c45b238b"
      },
      "source": [
        "## 4.2. Реализация на Python\n",
        "### 4.2.1. Код"
      ]
    },
    {
      "cell_type": "code",
      "execution_count": null,
      "id": "53fbc2eb",
      "metadata": {
        "id": "53fbc2eb"
      },
      "outputs": [],
      "source": [
        "import cmath   # math for complex numbers\n",
        "import scipy.integrate as intg\n",
        "import scipy.optimize as opt"
      ]
    },
    {
      "cell_type": "code",
      "execution_count": null,
      "id": "b2afe9a1",
      "metadata": {
        "id": "b2afe9a1"
      },
      "outputs": [],
      "source": [
        "# This is the same class as above. It is here for convenience and to overwrite Numba's jitted version.\n",
        "@dataclass\n",
        "class HestonParams:    \n",
        "    s: float\n",
        "    v: float\n",
        "    kappa: float\n",
        "    theta: float\n",
        "    sigma: float\n",
        "    rho: float\n",
        "\n",
        "\n",
        "def heston_cf(h, u, t):\n",
        "    \"\"\"Characteristic function of the log-price at time t.\n",
        "    \n",
        "    Args:\n",
        "      h: Parameters of the model (HestonParams).\n",
        "      u: Argument of the characteristic function (float or complex).\n",
        "      t: Time.\n",
        "    \"\"\"    \n",
        "    d = cmath.sqrt((h.rho*h.sigma*u*1j - h.kappa)**2 + h.sigma**2*(u*1j + u**2))     # 1j is complex i\n",
        "    g = ((h.rho*h.sigma*u*1j - h.kappa + d) / (h.rho*h.sigma*u*1j - h.kappa - d))\n",
        "    C = (h.kappa*h.theta/h.sigma**2 * \n",
        "         (t*(h.kappa - h.rho*h.sigma*u*1j - d) - 2*cmath.log((1 - g*cmath.exp(-d*t))/(1-g))))\n",
        "    D = ((h.kappa - h.rho*h.sigma*u*1j - d)/h.sigma**2 * \n",
        "         ((1 - cmath.exp(-d*t)) / (1 - g*cmath.exp(-d*t))))\n",
        "    return cmath.exp(C + D*h.v + u*math.log(h.s)*1j)\n",
        "\n",
        "\n",
        "def heston_call_price(h, t, k):\n",
        "    \"\"\"Price of a call option in the Heston model.\n",
        "    \n",
        "    Args:\n",
        "      h: Parameters of the model (HestonParams).\n",
        "      t: Expiration time.\n",
        "      k: Strike.\n",
        "    \"\"\"\n",
        "    def integrand(u):\n",
        "        return (cmath.exp(-1j*u*cmath.log(k))/(1j*u) * \n",
        "                (heston_cf(h, u-1j, t) - k*heston_cf(h, u, t))).real\n",
        "    \n",
        "    return (0.5*(h.s - k) + 1/math.pi * intg.quad(integrand, 0, math.inf)[0])  # see scipy.integrate.quad"
      ]
    },
    {
      "cell_type": "markdown",
      "id": "2eb8efd2",
      "metadata": {
        "id": "2eb8efd2"
      },
      "source": [
        "### 4.2.2. Пример"
      ]
    },
    {
      "cell_type": "code",
      "execution_count": null,
      "id": "59a9d242",
      "metadata": {
        "id": "59a9d242"
      },
      "outputs": [],
      "source": [
        "# Compute option price (with the same parameters as we used for Monte-Carlo)\n",
        "h = HestonParams(s=1, v=0.2, kappa=1, theta=0.2, sigma=0.4, rho=-0.1)\n",
        "t = 0.5\n",
        "k = 1.1\n",
        "print(heston_call_price(h, t, k))"
      ]
    },
    {
      "cell_type": "code",
      "execution_count": null,
      "id": "3f1e6f27",
      "metadata": {
        "id": "3f1e6f27"
      },
      "outputs": [],
      "source": [
        "%timeit -n 100 -r 5 heston_call_price(h, 0.5, 1.1)"
      ]
    },
    {
      "cell_type": "markdown",
      "id": "1ebdbcd4",
      "metadata": {
        "id": "1ebdbcd4"
      },
      "source": [
        "## 4.3. Подгонка параметров модели (на Python)\n",
        "Под подгонкой параметров понимается задача нахождения параметров модели Хестона, которые бы давали кривую (или поверхность) предполагаемой волатильности наиболее близкую к наблюдаемой рыночной кривой. В качестве меры близости мы будем использовать среднеквадратичное отклонение предполагаемых волатильностей."
      ]
    },
    {
      "cell_type": "markdown",
      "id": "7ef005bc",
      "metadata": {
        "id": "7ef005bc"
      },
      "source": [
        "### 4.3.1. Код\n"
      ]
    },
    {
      "cell_type": "code",
      "execution_count": null,
      "id": "9e6040e6",
      "metadata": {
        "id": "9e6040e6"
      },
      "outputs": [],
      "source": [
        "# Standard normal density and distribution functions.\n",
        "# We could also use st.norm.pdf and st.norm.cdf, but they are slower for scalar arguments\n",
        "def phi(x):\n",
        "    \"\"\"Standard normal density function.\"\"\"\n",
        "    return 1/math.sqrt(2*math.pi)*math.exp(-0.5*x*x)\n",
        "\n",
        "def Phi(x):\n",
        "    \"\"\"Standard normal cumulative distribution function.\"\"\"\n",
        "    return (1 + math.erf(x / math.sqrt(2))) / 2   # math.erf is the error function\n",
        "\n",
        "def impvol(s, t, k, c):\n",
        "    \"\"\"Black-Scholes implied volatility of a call option.\n",
        "    \n",
        "    Args:\n",
        "      s: Stock price at time 0.\n",
        "      t: Expiration time.\n",
        "      k: Strike.\n",
        "      c: Call option price.\n",
        "    \n",
        "    Returns:\n",
        "      Implied volatility if it can be computed (Newton's root \n",
        "      finding method applied to the Black-Scholes formula \n",
        "      successfully converges). Otherwise returns NaN.\n",
        "      \n",
        "    Notes:\n",
        "      Risk-free interest rate is assumed to be 0.\n",
        "    \"\"\"\n",
        "    def equation(sigma):\n",
        "        d1 = (math.log(s/k) + 0.5*t*sigma**2) / (sigma*math.sqrt(t))\n",
        "        d2 = d1 - sigma*math.sqrt(t)\n",
        "        c_bs = s*Phi(d1) - k*Phi(d2)\n",
        "        return c_bs - c\n",
        "    \n",
        "    # Find a good starting value for Newton's method.\n",
        "    # We use the approximate formula of Corrado and Miller.\n",
        "    a = max(0, (c - (s-k)/2)**2 - (s-k)**2/math.pi)\n",
        "    sigma0 = math.sqrt(2*math.pi/t)/(s + k) * (c - (s-k)/2 + math.sqrt(a))\n",
        "   \n",
        "    res = opt.newton(equation, sigma0, full_output=True)    # see scipy.optimize.newton for details\n",
        "    \n",
        "    return res[0] if res[1].converged else math.nan\n",
        "\n",
        "\n",
        "def heston_iv(h, t, k):\n",
        "    \"\"\"Implied volatility produced by the Heston model.\"\"\"\n",
        "    return impvol(h.s, t, k, heston_call_price(h, t, k))\n",
        "\n",
        "\n",
        "def heston_calibrate(s, t, k, iv):\n",
        "    \"\"\"Calibration of the Heston model parameters.\n",
        "    \n",
        "    This functions accepts an observed implied volatility curve and find the parameters \n",
        "    of the Heston model which minimize the mean square difference between the model \n",
        "    and observed implied volatility.\n",
        "    \n",
        "    Args:\n",
        "      s: Stock price at time 0.\n",
        "      t: Expiration time of options (scalar).\n",
        "      k: Strikes (array).\n",
        "      iv: Implied volatility corresponding to the strikes (array).\n",
        "      \n",
        "    Returns:\n",
        "      Parameters of the model as a HestonParams instance.\n",
        "    \"\"\"\n",
        "    def objective(p):\n",
        "        # p = [v, kappa, theta, sigma, rho]\n",
        "        return sum((heston_iv(HestonParams(s, *p), t, k[i]) - iv[i])**2 for i in range(len(k)))\n",
        "    \n",
        "    v0 = iv[np.abs(k-s).argmin()]**2   # variance of the closest-to-the-money option\n",
        "    res = opt.minimize(\n",
        "        fun=objective,\n",
        "        x0=(v0, 1, v0, 1.0, -0.5),\n",
        "        method=\"SLSQP\",  # this method works best here, but you can try other methods\n",
        "        bounds=[(0, math.inf), (0, math.inf), (0, math.inf), (0, math.inf), (-1, 1)])\n",
        "    return HestonParams(s, *res.x)"
      ]
    },
    {
      "cell_type": "markdown",
      "id": "4c044c08",
      "metadata": {
        "id": "4c044c08"
      },
      "source": [
        "### 4.3.2. Пример\n",
        "\n",
        "Мы построим искусственную кривую предполагаемой волатильности путем добавления шума к кривой волатильности модели Хестона, а затем подгоним параметры модели к этой зашумленной кривой."
      ]
    },
    {
      "cell_type": "code",
      "execution_count": null,
      "id": "06dbb940",
      "metadata": {
        "id": "06dbb940"
      },
      "outputs": [],
      "source": [
        "k = np.linspace(0.6,1.35,10)\n",
        "iv = np.array([heston_iv(h, 0.5, k_) for k_ in k])\n",
        "iv_noise = iv + np.random.randn(len(k))*0.002\n",
        "\n",
        "plt.plot(k, iv, label=\"True IV\")\n",
        "plt.scatter(k, iv_noise, label=\"True IV + noise\")\n",
        "plt.legend()"
      ]
    },
    {
      "cell_type": "code",
      "execution_count": null,
      "id": "6b0cdcb9",
      "metadata": {
        "id": "6b0cdcb9"
      },
      "outputs": [],
      "source": [
        "%time h_calibrated = heston_calibrate(1, 0.5, k, iv_noise)\n",
        "print(h_calibrated)"
      ]
    },
    {
      "cell_type": "code",
      "execution_count": null,
      "id": "8a3ba3b6",
      "metadata": {
        "id": "8a3ba3b6"
      },
      "outputs": [],
      "source": [
        "# Plot IV curves\n",
        "iv_calibrated = [heston_iv(h_calibrated, 0.5, k_) for k_ in k] \n",
        "plt.plot(k, iv, label=\"True IV\")\n",
        "plt.scatter(k, iv_noise, label=\"True IV + noise\")\n",
        "plt.plot(k, iv_calibrated, label=\"Calibrated IV\")\n",
        "plt.legend()"
      ]
    },
    {
      "cell_type": "markdown",
      "id": "fac9a26c",
      "metadata": {
        "id": "fac9a26c"
      },
      "source": [
        "## 4.4. Использование Numba для быстрого интегрирования\n",
        "В приведенном выше коде для вычисления цены опциона много времени тратится на вычисление характеристической функции и вычисление подынтегральной функции в формуле Хестона. Далее мы перепишем этот фрагмент на Numba. Для этого потребуется переопределить подынтегральную функцию как C-callable, что позволит `scipy.integrate.quad` вызывать ее непосредственно, минуя механизм вызова Python.\n",
        "\n",
        "*Замечание.* С-callable - это скомпилированная функция, которая подгружается как библиотека, а интерпретатор Python может вызывать ее непосредственно (подробнее см., например, документацию к пакету `ctypes`). Например, так реализованы почти все функции в пакете NumPy, за счет чего он и является таким быстрым."
      ]
    },
    {
      "cell_type": "code",
      "execution_count": null,
      "id": "3f0303f5",
      "metadata": {
        "id": "3f0303f5"
      },
      "outputs": [],
      "source": [
        "from numba.types import CPointer, float64, intc\n",
        "from scipy import LowLevelCallable"
      ]
    },
    {
      "cell_type": "markdown",
      "id": "ed9ddb50",
      "metadata": {
        "id": "ed9ddb50"
      },
      "source": [
        "### 4.4.1. Код"
      ]
    },
    {
      "cell_type": "code",
      "execution_count": null,
      "id": "b49f34eb",
      "metadata": {
        "id": "b49f34eb"
      },
      "outputs": [],
      "source": [
        "@jitclass([(\"s\", float64),\n",
        "           (\"v\", float64),\n",
        "           (\"kappa\", float64),\n",
        "           (\"theta\", float64),\n",
        "           (\"sigma\", float64),\n",
        "           (\"rho\", float64)])\n",
        "class HestonParams:  \n",
        "    def __init__(self, s, v, kappa, theta, sigma, rho):\n",
        "        self.s = s\n",
        "        self.v = v\n",
        "        self.kappa = kappa\n",
        "        self.theta = theta\n",
        "        self.sigma = sigma\n",
        "        self.rho = rho\n",
        "  \n",
        "\n",
        "# The following function is the same as above, we only added @nb.jit\n",
        "@nb.njit\n",
        "def heston_cf(h, u, t):\n",
        "    d = cmath.sqrt((h.rho*h.sigma*u*1j - h.kappa)**2 + h.sigma**2*(u*1j + u**2))     # 1j is complex i\n",
        "    g = ((h.rho*h.sigma*u*1j - h.kappa + d) / (h.rho*h.sigma*u*1j - h.kappa - d))\n",
        "    C = (h.kappa*h.theta/h.sigma**2 * \n",
        "         (t*(h.kappa - h.rho*h.sigma*u*1j - d) - 2*cmath.log((1 - g*cmath.exp(-d*t))/(1-g))))\n",
        "    D = ((h.kappa - h.rho*h.sigma*u*1j - d)/h.sigma**2 * \n",
        "         ((1 - cmath.exp(-d*t)) / (1 - g*cmath.exp(-d*t))))\n",
        "    return cmath.exp(C + D*h.v + u*math.log(h.s)*1j)\n",
        "\n",
        "\n",
        "# In the following function, the 2nd argument contains a pointer to an \n",
        "# array of parameters, and the 1st argument is the length of the array (we don't need it)\n",
        "@nb.cfunc(float64(intc, CPointer(float64)))\n",
        "def heston_call_price_integrand(n, x):  # x = (u, t, k, s, v, kappa, theta, nu, rho):\n",
        "    u = x[0]\n",
        "    t = x[1]\n",
        "    k = x[2]\n",
        "    s = x[3]\n",
        "    v = x[4]\n",
        "    kappa = x[5]\n",
        "    theta = x[6]\n",
        "    sigma = x[7]\n",
        "    rho = x[8]\n",
        "    h = HestonParams(s, v, kappa, theta, sigma, rho)\n",
        "    return (cmath.exp(-1j*u*math.log(k))/(1j*u) * \n",
        "            (heston_cf(h, u-1j, t) - k*heston_cf(h, u, t))).real\n",
        "\n",
        "# This is not jitted because Numba does not optimize scipy.integrate.quad\n",
        "def heston_call_price(h, t, k):   \n",
        "    return 0.5*(h.s - k) + 1/math.pi * intg.quad(\n",
        "        LowLevelCallable(heston_call_price_integrand.ctypes), \n",
        "        0, math.inf, \n",
        "        args=(t, k, h.s, h.v, h.kappa, h.theta, h.sigma, h.rho))[0]"
      ]
    },
    {
      "cell_type": "markdown",
      "id": "f2b8b629",
      "metadata": {
        "id": "f2b8b629"
      },
      "source": [
        "### 4.4.2. Пример"
      ]
    },
    {
      "cell_type": "code",
      "execution_count": null,
      "id": "473a1cb6",
      "metadata": {
        "id": "473a1cb6"
      },
      "outputs": [],
      "source": [
        "# (Compare this with section 4.2.2: 1.22 ms there)\n",
        "h = HestonParams(s=1, v=0.2, kappa=1, theta=0.2, sigma=0.4, rho=-0.1)\n",
        "%timeit -n 100 -r 5 heston_call_price(h, 0.5, 1.1)"
      ]
    },
    {
      "cell_type": "code",
      "execution_count": null,
      "id": "88d21b89",
      "metadata": {
        "id": "88d21b89"
      },
      "outputs": [],
      "source": [
        "# Run twice\n",
        "%time h_calibrated = heston_calibrate(1, 0.5, k, iv_noise)\n",
        "\n",
        "print(f\"v={h_calibrated.v}, kappa={h_calibrated.kappa}, theta={h_calibrated.theta},\" ,\n",
        "      f\"sigma={h_calibrated.sigma}, rho={h_calibrated.rho}\") # we cannot just print(h_calibrated)\n",
        "\n",
        "# Note: we may get slightly different parameters values compared to Numpy, \n",
        "# but the IV curves will be close (see the next graph)"
      ]
    },
    {
      "cell_type": "code",
      "execution_count": null,
      "id": "a95fffee",
      "metadata": {
        "id": "a95fffee"
      },
      "outputs": [],
      "source": [
        "# Plot IV curves\n",
        "iv_calibrated_n = [heston_iv(h_calibrated, 0.5, k_) for k_ in k] \n",
        "plt.plot(k, iv, label=\"True IV\")\n",
        "plt.scatter(k, iv_noise, label=\"True IV + noise\")\n",
        "plt.plot(k, iv_calibrated, label=\"Calibrated IV (Numpy)\")\n",
        "plt.plot(k, iv_calibrated_n, linestyle=\"dashed\", label=\"Calibrated IV (Numba)\")\n",
        "plt.legend()"
      ]
    },
    {
      "cell_type": "markdown",
      "id": "208fb059",
      "metadata": {
        "id": "208fb059"
      },
      "source": [
        "## 4.5*. Numba для вычисления предполагаемой волатильности\n",
        "Можно также переписать вычисление предполагаемой волатильности на Numba (она нужна нам для вычисления качества подгонки модели). Для этого потребуется реализовать метод Ньютона нахождения корня уравнения, так как функция `newton` из SciPy не поддерживается Numba.\n",
        "\n",
        "Мы увидим, что действительно можно значительно ускорить вычисление предполагаемой волатильности, однако это не даст значительного эффекта для процедуры подгонки модели, так как вычисление волатильности в ней не такая трудоемкая процедура по сравнению с вычислением цены опциона.\n",
        "\n",
        "### 4.5.1. Метод Ньютона\n",
        "\n",
        "Предположим, что нужно найти решение $x^*$ уравнения \n",
        "$$f(x) = 0.$$\n",
        "\n",
        "*Метод Ньютона* состоит в построении последовательности $x_n$ такой, что при некоторых условиях на $f(x)$ выполнено\n",
        "$$x_n \\to x^*.$$\n",
        "\n",
        "**Теорема.** Пусть $f(x)$ непрерывно дифференцируема в некоторой окрестности своего корня $x^*$ и $f'(x^*) \\neq 0$. Тогда найдется окрестность $B_\\varepsilon(x^*)$ такая, что для любого $x_0\\in B_\\varepsilon(x)$ последовательность\n",
        "$$ x_{n+1} = x_{n} - \\frac{f(x_n)}{f'(x_n)}, \\qquad n=0,1,\\ldots,$$\n",
        "имеет предел\n",
        "$$\\lim_{n\\to\\infty} x_n = x^*.$$\n"
      ]
    },
    {
      "cell_type": "markdown",
      "id": "2ab3ad7d",
      "metadata": {
        "id": "2ab3ad7d"
      },
      "source": [
        "### 4.5.2. Код"
      ]
    },
    {
      "cell_type": "code",
      "execution_count": null,
      "id": "976b6d1a",
      "metadata": {
        "id": "976b6d1a"
      },
      "outputs": [],
      "source": [
        "@nb.njit\n",
        "def phi(x):\n",
        "    \"\"\"Standard normal density function.\"\"\"\n",
        "    return 1/math.sqrt(2*math.pi)*math.exp(-0.5*x*x)\n",
        "\n",
        "@nb.njit\n",
        "def Phi(x):\n",
        "    \"\"\"Standard normal cumulative distribution function.\"\"\"\n",
        "    return (1.0 + math.erf(x / math.sqrt(2.0))) / 2.0\n",
        "\n",
        "# @vectorize allows to pass array arguments to functions with scalar arguments\n",
        "# applying NumPy's broadcasting rules\n",
        "@nb.vectorize\n",
        "def impvol_new(s, t, k, c):\n",
        "    eps = 1.48e-08   # same precision as in SciPy's Newton method\n",
        "    a = max(0.0, (c - (s-k)/2.0)**2.0 - (s-k)**2.0/np.pi)\n",
        "    sigma = np.sqrt(2.0*np.pi/t)/(s + k) * (c - (s-k)/2.0 + np.sqrt(a))\n",
        "    \n",
        "    for n in range(0, 300):  # Maximum 300 iterations in Newton's method. Here, this is enough.\n",
        "        d1 = (np.log(s/k) + 0.5*t*sigma**2) / (sigma*np.sqrt(t))\n",
        "        d2 = d1 - sigma*np.sqrt(t)\n",
        "        c_bs = s*Phi(d1) - k*Phi(d2)\n",
        "        f = c_bs - c\n",
        "    \n",
        "        if abs(f) < eps:\n",
        "            break\n",
        "        vega = s * phi(d1) * np.sqrt(t)  # vega is the derivative of the price w.r.t. sigma\n",
        "        sigma = sigma - f/vega\n",
        "    \n",
        "    return sigma if n<300 else np.NaN\n",
        " \n",
        "# Note: here we use Numpy's vectorize (np.vectorize), not Numba's\n",
        "# because heston_call_price cannot be jitted\n",
        "@np.vectorize    \n",
        "def heston_iv(h, t, k):\n",
        "    return impvol_new(h.s, t, k, heston_call_price(h, t, k))"
      ]
    },
    {
      "cell_type": "markdown",
      "id": "6739028e",
      "metadata": {
        "id": "6739028e"
      },
      "source": [
        "### 4.5.3. Пример"
      ]
    },
    {
      "cell_type": "code",
      "execution_count": null,
      "id": "6e888868",
      "metadata": {
        "id": "6e888868"
      },
      "outputs": [],
      "source": [
        "# Old implied volatility\n",
        "%timeit -n 1000 -r 5 impvol(1, 0.5, 1.1, 0.085)"
      ]
    },
    {
      "cell_type": "code",
      "execution_count": null,
      "id": "a8c1ae36",
      "metadata": {
        "id": "a8c1ae36"
      },
      "outputs": [],
      "source": [
        "# New implied volatility\n",
        "impvol_new(1, 0.5, 1.1, 0.085)   # for compilation\n",
        "%timeit -n 10000 -r 5 impvol_new(1, 0.5, 1.1, 0.085)"
      ]
    },
    {
      "cell_type": "code",
      "execution_count": null,
      "id": "b1d4497e",
      "metadata": {
        "id": "b1d4497e"
      },
      "outputs": [],
      "source": [
        "# Whole calibration procedure with the new implied volatility function\n",
        "# Run twice\n",
        "%time h_calibrated = heston_calibrate(1, 0.5, k, iv_noise)\n",
        "\n",
        "print(f\"v={h_calibrated.v}, kappa={h_calibrated.kappa}, theta={h_calibrated.theta},\" ,\n",
        "      f\"sigma={h_calibrated.sigma}, rho={h_calibrated.rho}\")\n",
        "\n",
        "iv_calibrated_n2 = [heston_iv(h_calibrated, 0.5, k_) for k_ in k] \n",
        "plt.plot(k, iv, label=\"True IV\")\n",
        "plt.scatter(k, iv_noise, label=\"True IV + noise\")\n",
        "plt.plot(k, iv_calibrated, label=\"Calibrated IV (Numpy)\")\n",
        "plt.plot(k, iv_calibrated_n2, linestyle=\"dashed\", label=\"Calibrated IV (Numba), ver. 2\")\n",
        "plt.legend()"
      ]
    },
    {
      "cell_type": "markdown",
      "id": "958cf915",
      "metadata": {
        "id": "958cf915"
      },
      "source": [
        "## Таблица результатов\n",
        "\n",
        "**Цена опциона по формуле Хестона**\n",
        "\n",
        "| Версия | Время (миллисек.) |\n",
        "|---------|------------|\n",
        "|Python (using SciPy)         |1.22   |\n",
        "|Numba   | 0.073|\n",
        "\n",
        "**Подгонка параметров модели**  \n",
        "\n",
        "| Версия | Время (сек.) |\n",
        "|---------|------------|\n",
        "|Python (using SciPy)  | 9    |\n",
        "|Numba                 | 0.355|\n",
        "\n",
        "**Вычисление предполагаемой волатильности**\n",
        "\n",
        "| Версия | Время (микросек.) |\n",
        "|---------|------------|\n",
        "|Python (using SciPy)  |108   |\n",
        "|Numba                 | 1.54|"
      ]
    },
    {
      "cell_type": "markdown",
      "id": "f7034d3b",
      "metadata": {
        "id": "f7034d3b"
      },
      "source": [
        "<style>\n",
        "    ul {list-style-position: inside; padding-left:1em; margin-top:0;}\n",
        "    p.a {margin-bottom:0; margin-top:0;}\n",
        "</style>\n",
        "# 5. Вычисления на GPU\n",
        "## 5.1. Основные принципы\n",
        "\n",
        "<p class=\"a\"><b>Отличия CPU от GPU</b></p>\n",
        "\n",
        "- CPU может выполнять широкий набор инструкций с возможностью параллельного выполнения на небольшом числе ядер. При параллельном выполнении каждое ядро может исполнять различные инструкции.\n",
        "- GPU выполняет ограниченный набор инструкций, но может исполнять один фрагмент программы параллельно на большом числе ядер.  \n",
        "- CPU лучше справляется с задачами общего характера, GPU - с задачами, где возможно параллельное исполнение (графика, научные вычисления и т.п.)\n",
        "\n",
        "**CUDA** (Compute Unified Device Architecture) - это программно-аппаратная архитектура для использования GPU Nvidia в общих вычислительных задачах. Программная часть состоит из компилятора C++ и библиотек для численных методов. В Python поддерживается несколькими пакетами: PyCUDA, Numba, CuPy. Также может использоваться в некоторых пакетах для машинного обучения (TensorFlow, PyTorch, и др.). Мы рассмотрим только CuPy.\n",
        "\n",
        "<p class=\"a\"><b>Схема работы алгоритма, использующего CUDA</b></p>\n",
        "\n",
        "- Скопировать данные из основной оперативной памяти в память GPU.\n",
        "- Запустить фрагмент кода (\"ядро\") параллельно в несколько потоков на GPU. Потоки будут выполнять одну и ту же последовательность инструкций и использовать одну область памяти.\n",
        "- Скопировать результат вычислений обратно в основную оперативную память.\n",
        "\n",
        "Для эффективного использования GPU нужно применять алгоритмы, которые равномерно загружают ядра GPU и минимизируют копирование данных в/из основной памяти. *Детали:* [CUDA C/C++ Basics](https://www.nvidia.com/docs/IO/116711/sc11-cuda-c-basics.pdf).\n",
        "\n",
        "**Пакет CuPy** является аналогом NumPy для CUDA и реализует большинство функций из NumPy на GPU. Для простых применений обычно достаточно просто заменить в программе `numpy.` на `cupy.` (например, вместо `numpy.random.randn(10000)` использовать `cupy.random.randn(10000)`)."
      ]
    },
    {
      "cell_type": "markdown",
      "id": "ca49c050",
      "metadata": {
        "id": "ca49c050"
      },
      "source": [
        "\n",
        "## 5.3. Метод Монте-Карло с использованием CuPy\n",
        "Здесь мы с небольшими изменениями копируем реализацию метода Монте-Карло с NumPy. Основное изменение - добавлен параметр `toolkit`, в который можно передать значение `toolkit=np` или `toolkit=cp`; соответственно мы заменим `np.` на `toolkit.`\n",
        "\n",
        "Также в функции `monte_carlo` изменим значение `error` по умолчанию на `1e-4` (т.е. точность станет в 10 раз выше, что приведет к увеличению времени работы примерно в 100 раз), `max_paths` на 10 млн., и увеличим `batch_size` до 250000.\n",
        "\n",
        "Для удобства все пакеты импортируются еще раз и вспомогательные классы определяются заново; можно запускать ноутбук сразу с этого места, без выполнения предыдущих ячеек."
      ]
    },
    {
      "cell_type": "markdown",
      "id": "aa98c1f3",
      "metadata": {
        "id": "aa98c1f3"
      },
      "source": [
        "### 5.3.1. Код"
      ]
    },
    {
      "cell_type": "code",
      "execution_count": null,
      "id": "761deca7",
      "metadata": {
        "id": "761deca7"
      },
      "outputs": [],
      "source": [
        "from dataclasses import dataclass\n",
        "import math\n",
        "import numpy as np\n",
        "from scipy import stats as st\n",
        "import matplotlib.pyplot as plt"
      ]
    },
    {
      "cell_type": "code",
      "execution_count": null,
      "id": "bb970b83",
      "metadata": {
        "id": "bb970b83"
      },
      "outputs": [],
      "source": [
        "import cupy as cp"
      ]
    },
    {
      "cell_type": "code",
      "execution_count": null,
      "id": "8dedb2fb",
      "metadata": {
        "id": "8dedb2fb"
      },
      "outputs": [],
      "source": [
        "@dataclass\n",
        "class HestonParams:\n",
        "    s: float\n",
        "    v: float\n",
        "    kappa: float\n",
        "    theta: float\n",
        "    sigma: float\n",
        "    rho: float\n",
        "        \n",
        "\n",
        "@dataclass\n",
        "class MCResult:\n",
        "    x: float\n",
        "    error: float    \n",
        "    paths: int    \n",
        "    control_var_coef: float = None\n",
        "        \n",
        "        \n",
        "def monte_carlo(simulator, f, error=1e-4, conf_level=0.95, max_paths=10000000, \n",
        "                batch_size=250000, control_f=None, control_estimation_paths=5000,\n",
        "                toolkit=np):\n",
        "    z = st.norm.ppf((1+conf_level)/2)\n",
        "    x = 0          \n",
        "    x_sq = 0       \n",
        "    s = 0          \n",
        "    n = 0          \n",
        "    theta = None   \n",
        "    \n",
        "    if control_f is not None:\n",
        "        S = simulator(control_estimation_paths)\n",
        "        c = toolkit.cov(f(S), control_f(S))            \n",
        "        theta = c[0, 1] / c[1, 1]\n",
        "    \n",
        "    while (n==0 or (z*s/math.sqrt(n*batch_size) > error and n*batch_size < max_paths)):\n",
        "        S = simulator(batch_size)\n",
        "        if control_f is not None:\n",
        "            y = f(S) - theta*control_f(S)\n",
        "        else:\n",
        "            y = f(S) \n",
        "        x = (x*n + toolkit.mean(y))/(n+1)              \n",
        "        x_sq = (x_sq*n + toolkit.mean(y**2)) / (n+1)   \n",
        "        s = math.sqrt(x_sq - x**2) \n",
        "        n += 1\n",
        "    \n",
        "    return MCResult(x, z*s/math.sqrt(n*batch_size), n*batch_size, theta)\n",
        "     \n",
        "\n",
        "def heston_euler(paths, h, t, steps, toolkit=np):\n",
        "    dt = t/steps\n",
        "    # Below float32 is used to save memory (occupies 4 bytes, while float occupies 8 bytes)\n",
        "    # Also, GPUs work faster with float32 than with float\n",
        "    S = toolkit.empty((steps+1, paths), dtype=toolkit.float32)\n",
        "    V = toolkit.empty((steps+1, paths), dtype=toolkit.float32)\n",
        "    V[0] = h.v\n",
        "    S[0] = h.s\n",
        "    Z = toolkit.random.randn(2, steps, paths)\n",
        "    \n",
        "    for i in range(steps):\n",
        "        v_plus = toolkit.maximum(V[i], 0)\n",
        "        V[i+1] = V[i] + h.kappa*(h.theta-v_plus)*dt + h.sigma*toolkit.sqrt(v_plus) * Z[0,i]*math.sqrt(dt)\n",
        "        S[i+1] = S[i] * toolkit.exp(\n",
        "            -0.5*v_plus*dt + toolkit.sqrt(v_plus)*(h.rho*Z[0,i] + math.sqrt(1-h.rho**2)*Z[1,i])*math.sqrt(dt))\n",
        "    \n",
        "    return S"
      ]
    },
    {
      "cell_type": "markdown",
      "id": "e3a530d2",
      "metadata": {
        "id": "e3a530d2"
      },
      "source": [
        "### 5.3.2. Примеры"
      ]
    },
    {
      "cell_type": "code",
      "execution_count": null,
      "id": "483ada3b",
      "metadata": {
        "id": "483ada3b"
      },
      "outputs": [],
      "source": [
        "# Our usual parameters\n",
        "h = HestonParams(1, 0.2, 1, 0.2, 0.4, -0.1)\n",
        "t = 0.5\n",
        "steps = 125"
      ]
    },
    {
      "cell_type": "code",
      "execution_count": null,
      "id": "9bfcd669",
      "metadata": {
        "id": "9bfcd669"
      },
      "outputs": [],
      "source": [
        "# Performance of NumPy version\n",
        "%time res = monte_carlo(lambda paths: heston_euler(paths, h, t, steps, np), \\\n",
        "                        lambda s: np.maximum(s[-1] - 1.1, 0), \\\n",
        "                        control_f = lambda s: s[-1] - 1, \\\n",
        "                        toolkit = np)                        \n",
        "print(res)"
      ]
    },
    {
      "cell_type": "code",
      "execution_count": null,
      "id": "610042d7",
      "metadata": {
        "id": "610042d7"
      },
      "outputs": [],
      "source": [
        "# Performance of CuPy version\n",
        "# You may need to run this cell twice: the first run may be slow because of GPU initialization \n",
        "%time res = monte_carlo(lambda paths: heston_euler(paths, h, t, steps, cp), \\\n",
        "                        lambda s: cp.maximum(s[-1] - 1.1, 0), \\\n",
        "                        control_f = lambda s: s[-1] - 1, \\\n",
        "                        toolkit = cp)                        \n",
        "print(res)"
      ]
    },
    {
      "cell_type": "markdown",
      "id": "c99b00a2",
      "metadata": {
        "id": "c99b00a2"
      },
      "source": [
        "## 5.4. Синтез ядер в CuPy\n",
        "Ядро в CUDA - это фрагмент кода, который выполняется параллельно на GPU. В приведенной выше реализации функции `heston_euler` ядрами являются вызовы функций CuPy (`cp.empty`, `cp.random.randn` и т.д.). Работу алгоритма можно ускорить, если объединить несколько ядер в одно. Мы сделаем это для функций внутри цикла `for`.\n",
        "\n",
        "CuPy позволяет задавать ядра несколькими способами; самый простой - использовать декоратор `@cp.fuse`. Декорированная им функция должна содержать только вызовы функций из CuPy, которые будут динамически скомпилированы в новое ядро."
      ]
    },
    {
      "cell_type": "markdown",
      "id": "569fb853",
      "metadata": {
        "id": "569fb853"
      },
      "source": [
        "### 5.4.1. Код"
      ]
    },
    {
      "cell_type": "code",
      "execution_count": null,
      "id": "35410936",
      "metadata": {
        "id": "35410936"
      },
      "outputs": [],
      "source": [
        "@cp.fuse\n",
        "def kernel(s, v, z1, z2, kappa, theta, sigma, rho, dt):   # There is no easy way to pass `HestonParams`\n",
        "    vp = cp.maximum(v, 0)\n",
        "    sn = s * cp.exp(-0.5*dt*vp + cp.sqrt(vp)*(rho*z1 + cp.sqrt(1-rho**2)*z2)*cp.sqrt(dt))\n",
        "    vn = v + kappa*(theta-vp)*dt + sigma*cp.sqrt(vp) * z1*cp.sqrt(dt)      \n",
        "    return sn, vn \n",
        "           \n",
        "\n",
        "def heston_euler_fused(paths, h, t, steps):\n",
        "    dt = t/steps\n",
        "    S = cp.empty((steps+1, paths), dtype=cp.float32)\n",
        "    V = cp.empty((steps+1, paths), dtype=cp.float32)\n",
        "    S[0] = h.s\n",
        "    V[0] = h.v\n",
        "    Z = cp.random.randn(2, steps, paths, dtype=cp.float32)\n",
        "    \n",
        "    for i in range(steps):       \n",
        "        S[i+1], V[i+1] = kernel(S[i], V[i], Z[0,i], Z[1,i], h.kappa, h.theta, h.sigma, h.rho, dt)       \n",
        "    \n",
        "    return S"
      ]
    },
    {
      "cell_type": "markdown",
      "id": "c91f4eda",
      "metadata": {
        "id": "c91f4eda"
      },
      "source": [
        "### 5.4.2. Примеры"
      ]
    },
    {
      "cell_type": "code",
      "execution_count": null,
      "id": "db8e3da4",
      "metadata": {
        "id": "db8e3da4"
      },
      "outputs": [],
      "source": [
        "# Run twice\n",
        "%time res = monte_carlo(lambda paths: heston_euler_fused(paths, h, t, steps), \\\n",
        "                        lambda s: cp.maximum(s[-1] - 1.1, 0), \\\n",
        "                        control_f = lambda s: s[-1] - 1, \\\n",
        "                        toolkit = cp)  \n",
        "print(res)"
      ]
    },
    {
      "cell_type": "code",
      "execution_count": null,
      "id": "4dcbf0a6",
      "metadata": {
        "id": "4dcbf0a6"
      },
      "outputs": [],
      "source": [
        "# To find out how much time our code spends on CPU and GPU in `heston_euler` function, \n",
        "# we can use `cupyx.profiler.benchmark`.\n",
        "# (`%time` measures only CPU time, but `benchmark` measures both CPU and GPU time)\n",
        "import cupyx as cpx"
      ]
    },
    {
      "cell_type": "code",
      "execution_count": null,
      "id": "c9de12fe",
      "metadata": {
        "id": "c9de12fe"
      },
      "outputs": [],
      "source": [
        "# We can see that kernel fusion greatly reduces CPU time\n",
        "print(cpx.profiler.benchmark(heston_euler, (250000, h, t, steps, cp), n_repeat=20))\n",
        "print(\"-----\")\n",
        "print(cpx.profiler.benchmark(heston_euler_fused, (250000, h, t, steps), n_repeat=20))"
      ]
    },
    {
      "cell_type": "markdown",
      "id": "71fa2380",
      "metadata": {
        "id": "71fa2380"
      },
      "source": [
        "## Сравнение результатов\n",
        "\n",
        "| Версия | Время (сек.) |\n",
        "|---------|------------|\n",
        "| Python                         | ~3140       |\n",
        "|NumPy (с контрольной функцией)  | 31.4       |\n",
        "|CuPy                            | 0.695 |\n",
        "|CuPy + kernel fusion            | 0.193 |\n",
        "\n",
        "(Время для версии на Python основано на оценке из раздела 2, что она примерно в 100 раз медленнее версии Numpy)"
      ]
    },
    {
      "cell_type": "markdown",
      "id": "6b71e130",
      "metadata": {
        "id": "6b71e130"
      },
      "source": [
        "<p style=\"font-size:300%;text-align:center;padding-top:5em\">That's all Folks!<br/>😄</p>"
      ]
    }
  ],
  "metadata": {
    "kernelspec": {
      "display_name": "Python 3 (ipykernel)",
      "language": "python",
      "name": "python3"
    },
    "language_info": {
      "codemirror_mode": {
        "name": "ipython",
        "version": 3
      },
      "file_extension": ".py",
      "mimetype": "text/x-python",
      "name": "python",
      "nbconvert_exporter": "python",
      "pygments_lexer": "ipython3",
      "version": "3.10.4"
    },
    "vscode": {
      "interpreter": {
        "hash": "795bbdc4e61b901407cf2664b514c417ed4ce314aedb193450ad9b25ee2e4952"
      }
    },
    "colab": {
      "name": "summerschool.ipynb",
      "provenance": [],
      "collapsed_sections": [
        "e27b9d32",
        "845d122e",
        "5441dc1c",
        "474292b4",
        "733332cf",
        "79351c9d",
        "7db810ac",
        "0708e2dd",
        "3f656617",
        "a00e8424",
        "33adca84",
        "c45b238b",
        "2eb8efd2",
        "1ebdbcd4",
        "7ef005bc",
        "4c044c08",
        "fac9a26c",
        "ed9ddb50",
        "f2b8b629",
        "208fb059",
        "2ab3ad7d",
        "6739028e",
        "958cf915",
        "ca49c050",
        "aa98c1f3",
        "e3a530d2",
        "c99b00a2",
        "569fb853",
        "c91f4eda",
        "71fa2380"
      ],
      "include_colab_link": true
    }
  },
  "nbformat": 4,
  "nbformat_minor": 5
}